{
 "cells": [
  {
   "cell_type": "markdown",
   "metadata": {},
   "source": [
    "## RSA Cipher\n",
    "\n",
    "\n",
    "\n",
    "### Key generation\n",
    "\n",
    "* Choose two primes $p$ and $q$\n",
    "\n",
    "* Compute $n=pq$\n",
    "\n",
    "* Compute the least common multiple of $p-1$ and $q-1$, and call it $\\lambda(n)=lcm(p-1,q-1)$\n",
    "\n",
    "* Choose an integer $e$ coprime to $\\lambda(n)$\n",
    "\n",
    "* Compute the inverse $d$ of $e$ modulo $\\lambda(n)$ \n",
    "\n",
    "Now, say that Alice wants to receive from Bob a message. \n",
    "\n",
    "* $(n,e)$ is a public key, which Alice sends to Bob through a reliable channel. \n",
    "* $(n,d)$ is a private key, which Alice keeps for herself. \n",
    "\n",
    "\n",
    "\n",
    "\n",
    "See [Wikipedia](https://en.wikipedia.org/wiki/RSA_(cryptosystem)) for more details. See also [Khan Academy](https://www.khanacademy.org/computing/computer-science/cryptography#modern-crypt) for a greate video introduction. \n",
    "\n",
    "\n",
    "### Encryption and Decryption \n",
    "\n",
    "Bob translates his message M to an integer $m$, and then converts it to ciphertext using \n",
    "\n",
    "$$ c = m^e \\pmod{n} $$\n",
    "\n",
    "When Alices receives the value of 'c', she decodes it using \n",
    "\n",
    "$$ m = c^d \\pmod{n}$$ \n",
    "\n",
    "which recovers $m$. \n",
    "\n",
    "### Examples\n",
    "\n",
    "* Choose $p=61$, $q=53$ which are two prime numbers\n",
    "* Compute $n=pq = 3233$, \n",
    "* Compute the least common multiple, \n",
    "\n",
    "$$ \\lambda (3233) = lcm (60, 52) = 780 $$\n",
    "\n",
    "* Choose between $1<e<780$ this is coprime to 780. Let $e=17$. \n",
    "* Compute $d$, the modular multiplicative inverse of $ 17 \\pmod {780}$.  \n",
    "   \n",
    "   - $780=2^2*3*5*13$ \n",
    "   - $\\phi(780) = (2-1)^2(3-1)(5-1)(13-1) = 96$\n",
    "   - $ d= 17^{96-1} \\pmod{780} = 413$\n",
    "\n",
    "Now the public/encryption key is $(n=3233, e=17)$, the private/decryption key is $(n=3233, d=413)$. \n",
    "\n",
    "In this case, $p$ and $q$ are small, it is very easy to guess their values from $n$. In reality, large prime numbers are used such that the decomposition of $n$ to prime numbers is difficult. \n",
    "\n",
    "Now let's try the encryption and decryption \n",
    "\n",
    "Bob wants to send a message \"HI\", e.g., H=7, I=8. He first encodes it with the key he got from Alice $(n=3233, e=17)$,\n",
    "\n",
    "$$ c1 = 7^{17} \\pmod{3233} = 2369 $$\n",
    "$$ c2 = 8^{17} \\pmod{3233} = 2041 $$\n",
    "\n",
    "He sends \"2369, 2041\" to Alice. \n",
    "\n",
    "Alice now uses her private key $(n=3233, d=413)$ to decode it, \n",
    "\n",
    "$$ m1 = 2369^{413} \\pmod{3233} = 7 $$\n",
    "$$ m2 = 2041^{413} \\pmod{3233} = 8 $$\n",
    "\n",
    "and she gets \"7 8\". With the alphabetic table, she understands the message is \"HI\". \n",
    "\n"
   ]
  },
  {
   "cell_type": "markdown",
   "metadata": {},
   "source": [
    "### Python routines \n",
    "\n",
    "See [RSACipher.py](RSACipher.py) for native implementations of all integer operations. For faster processing, especially for large numbers, use [RSACipherGMP.py](RSACipherGMP.py) which uses [GNU MP Library](https://gmplib.org/manual/) and [gmpy2](https://gmpy2.readthedocs.io) interface."
   ]
  },
  {
   "cell_type": "markdown",
   "metadata": {},
   "source": [
    "#### Key generation / Encrypt / Decrypt"
   ]
  },
  {
   "cell_type": "code",
   "execution_count": 1,
   "metadata": {},
   "outputs": [
    {
     "name": "stdout",
     "output_type": "stream",
     "text": [
      "RSA Key Generator\n",
      "p=  89  q=  149\n",
      "lambda(n) = 3256\n",
      "Public/Encryption Key  (e, n): (1171, 13261)\n",
      "Private/Decryption Key (d, n): (1571, 13261)\n",
      "plain : 1603 cipher:  2404 decrypted:  1603\n"
     ]
    }
   ],
   "source": [
    "# import my RSA python module\n",
    "import RSACipher as rsa\n",
    "\n",
    "# generate public and private key pairs\n",
    "# bits limit the range of prime numbers, 2^bits[0], 2^bits[1]\n",
    "# or (2^2, 2^8) here\n",
    "public_key, private_key = rsa.generate_key(bits=(2, 8), debug=True)\n",
    "\n",
    "\n",
    "# get n from the public_key\n",
    "e, n = public_key \n",
    "\n",
    "# message to be sent \n",
    "plain = 1603 % n \n",
    "# encrypt by Bob with the Alice's public_key\n",
    "cipher = rsa.encrypt(plain, public_key)\n",
    "# Alice uses her private key to decrypt\n",
    "decipher = rsa.decrypt(cipher, private_key)\n",
    "\n",
    "print(\"plain :\", plain, \"cipher: \", cipher, \"decrypted: \", decipher)"
   ]
  },
  {
   "cell_type": "markdown",
   "metadata": {},
   "source": [
    "#### Crack a RSA key\n",
    "\n",
    "One way to crack RSA key is to factorize $n$ into $p$ and $q$, and $e$ can be easily found out. For a small $n$, it is possible, for example, by [Fermat's factorization method](https://en.wikipedia.org/wiki/Fermat%27s_factorization_method). "
   ]
  },
  {
   "cell_type": "code",
   "execution_count": 2,
   "metadata": {},
   "outputs": [
    {
     "name": "stdout",
     "output_type": "stream",
     "text": [
      "13 1048583\n"
     ]
    }
   ],
   "source": [
    "p, q = rsa.fermat_factors(13631579)\n",
    "print(p,q)"
   ]
  },
  {
   "cell_type": "markdown",
   "metadata": {},
   "source": [
    "Of course. Larger numbers take longer time to factorize, which can be observed by the test below.   \n",
    "**NOTE: THE FOLLOWING CODE MAY TAKE A LONG TIME TO FINISH. IF YOU DONT WANT TO WAIT, USE THE MENU Kernel->Restart TO STOP IT**"
   ]
  },
  {
   "cell_type": "code",
   "execution_count": 3,
   "metadata": {},
   "outputs": [
    {
     "name": "stdout",
     "output_type": "stream",
     "text": [
      "time to factorize 871=13x67 is 3.0994415283203125e-05\n",
      "time to factorize 3341=13x257 is 2.288818359375e-05\n",
      "time to factorize 13403=13x1031 is 0.00010800361633300781\n",
      "time to factorize 53287=13x4099 is 0.0006000995635986328\n",
      "time to factorize 213343=13x16411 is 0.0020880699157714844\n",
      "time to factorize 851981=13x65537 is 0.00823211669921875\n",
      "time to factorize 3407911=13x262147 is 0.03361201286315918\n",
      "time to factorize 13631579=13x1048583 is 0.13180017471313477\n",
      "time to factorize 54526147=13x4194319 is 0.5027520656585693\n",
      "time to factorize 218104367=13x16777259 is 2.0302011966705322\n",
      "time to factorize 872415427=13x67108879 is 8.01463508605957\n",
      "time to factorize 3489660967=13x268435459 is 32.25048804283142\n"
     ]
    }
   ],
   "source": [
    "# define a timer function\n",
    "def timer(func, *args): \n",
    "    import time\n",
    "    start_time = time.time()\n",
    "    func(*args)\n",
    "    end_time = time.time()\n",
    "    return end_time-start_time\n",
    "\n",
    "### USE GMP version instead for large integers\n",
    "import RSACipherGMP as gmp\n",
    "\n",
    "for bits in range(6,30,2):\n",
    "    prime = gmp.next_prime(2**bits)\n",
    "    n = 13*prime \n",
    "    duration = timer(gmp.fermat_factors, n)\n",
    "    print(f\"time to factorize {n}=13x{prime} is {duration}\")"
   ]
  },
  {
   "cell_type": "code",
   "execution_count": null,
   "metadata": {},
   "outputs": [],
   "source": []
  }
 ],
 "metadata": {
  "kernelspec": {
   "display_name": "Python 3",
   "language": "python",
   "name": "python3"
  },
  "language_info": {
   "codemirror_mode": {
    "name": "ipython",
    "version": 3
   },
   "file_extension": ".py",
   "mimetype": "text/x-python",
   "name": "python",
   "nbconvert_exporter": "python",
   "pygments_lexer": "ipython3",
   "version": "3.8.5"
  }
 },
 "nbformat": 4,
 "nbformat_minor": 4
}
