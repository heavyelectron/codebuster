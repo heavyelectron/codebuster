{
 "cells": [
  {
   "cell_type": "markdown",
   "metadata": {},
   "source": [
    "## RSA Cipher\n",
    "\n",
    "\n",
    "\n",
    "### Key generation\n",
    "\n",
    "* Choose two primes $p$ and $q$\n",
    "\n",
    "* Compute $n=pq$\n",
    "\n",
    "* Compute the least common multiple of $p−1$ and $q−1$, and call it $\\lambda(n)=lcm(p-1,q-1)$\n",
    "\n",
    "* Choose an integer $e$ coprime to $\\lambda(n)$\n",
    "\n",
    "* Compute the inverse $d$ of $e$ modulo $\\lambda(n)$ \n",
    "\n",
    "Now, say that Alice wants to receive from Bob a message. \n",
    "\n",
    "* $(n,e)$ is a public key, which Alice sends to Bob through a reliable channel. \n",
    "* $(n,d)$ is a private key, which Alice keeps for herself. \n",
    "\n",
    "\n",
    "### Encryption and Decryption \n",
    "\n",
    "Bob translates his message M to an integer $m$, and then converts it to ciphertext using \n",
    "\n",
    "$$ c = m^e \\pmod{n} $$\n",
    "\n",
    "When Alices receives the value of 'c', she decodes it using \n",
    "\n",
    "$$ m = c^d \\pmod{n}$$ \n",
    "\n",
    "which recovers $m$. \n",
    "\n",
    "### Examples\n",
    "\n",
    "* Choose $p=61$, $q=53$ which are two prime numbers\n",
    "* Compute $n=pq = 3233$, \n",
    "* Compute the least common multiple, \n",
    "\n",
    "$$ \\lambda (3233) = lcm (60, 52) = 780 $$\n",
    "\n",
    "* Choose between $1<e<780$ this is coprime to 780. Let $e=17$. \n",
    "* Compute $d$, the modular multiplicative inverse of $ 17 \\pmod {780}$.  \n",
    "   \n",
    "   - $780=2^2*3*5*13$ \n",
    "   - $\\phi(780) = (2-1)^2(3-1)(5-1)(13-1) = 96$\n",
    "   - $ d= 17^{96-1} \\pmod{780} = 413$\n",
    "\n",
    "Now the public/encryption key is $(n=3233, e=17)$, the private/decryption key is $(n=3233, d=413)$. \n",
    "\n",
    "In this case, $p$ and $q$ are small, it is very easy to guess their values from $n$. In reality, large prime numbers are used such that the decomposition of $n$ to prime numbers is difficult. \n",
    "\n",
    "Now let's try the encryption and decryption \n",
    "\n",
    "Bob wants to send a message \"HI\", e.g., H=7, I=8. He first encodes it with the key he got from Alice $(n=3233, e=17)$,\n",
    "\n",
    "$$ c1 = 7^{17} \\pmod{3233} = 2369 $$\n",
    "$$ c2 = 8^{17} \\pmod{3233} = 2041 $$\n",
    "\n",
    "He sends \"2369, 2041\" to Alice. \n",
    "\n",
    "Alice now uses her private key $(n=3233, d=413)$ to decode it, \n",
    "\n",
    "$$ m1 = 2369^{413} \\pmod{3233} = 7 $$\n",
    "$$ m2 = 2041^{413} \\pmod{3233} = 8 $$\n",
    "\n",
    "and she gets \"7 8\". With the alphabetic table, she understands the message is \"HI\". \n",
    "\n",
    "\n",
    "### Resources\n",
    "\n",
    "* [Wikipedia](https://en.wikipedia.org/wiki/RSA_(cryptosystem))\n",
    "\n",
    "\n"
   ]
  },
  {
   "cell_type": "code",
   "execution_count": 1,
   "metadata": {},
   "outputs": [
    {
     "data": {
      "text/plain": [
       "413"
      ]
     },
     "execution_count": 1,
     "metadata": {},
     "output_type": "execute_result"
    }
   ],
   "source": [
    "17**95 % 780"
   ]
  },
  {
   "cell_type": "code",
   "execution_count": 2,
   "metadata": {},
   "outputs": [
    {
     "data": {
      "text/plain": [
       "[2369, 2041]"
      ]
     },
     "execution_count": 2,
     "metadata": {},
     "output_type": "execute_result"
    }
   ],
   "source": [
    "[m**17 % 3233 for m in [7, 8]]"
   ]
  },
  {
   "cell_type": "code",
   "execution_count": 3,
   "metadata": {},
   "outputs": [
    {
     "data": {
      "text/plain": [
       "[7, 8]"
      ]
     },
     "execution_count": 3,
     "metadata": {},
     "output_type": "execute_result"
    }
   ],
   "source": [
    "[c**413 % 3233 for c in [2369, 2041]]"
   ]
  },
  {
   "cell_type": "code",
   "execution_count": null,
   "metadata": {},
   "outputs": [],
   "source": []
  }
 ],
 "metadata": {
  "kernelspec": {
   "display_name": "Python 3",
   "language": "python",
   "name": "python3"
  },
  "language_info": {
   "codemirror_mode": {
    "name": "ipython",
    "version": 3
   },
   "file_extension": ".py",
   "mimetype": "text/x-python",
   "name": "python",
   "nbconvert_exporter": "python",
   "pygments_lexer": "ipython3",
   "version": "3.8.5"
  }
 },
 "nbformat": 4,
 "nbformat_minor": 4
}
