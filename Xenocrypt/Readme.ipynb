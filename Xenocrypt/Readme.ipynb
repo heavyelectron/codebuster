{
 "cells": [
  {
   "cell_type": "markdown",
   "metadata": {},
   "source": [
    "## Xenocrypt\n",
    "\n",
    "Xenocrypts are ciphers for foreign languages.\n",
    "\n",
    "At the invitational/Regional level, one cryptogram may be in Spanish as a challenge. At the state level, there will be at least one. It may be helpful if one of the partners is fluent in or has a few years of knowledge in Spanish.\n",
    "\n",
    "For Spanish cryptograms, n and ñ are treated as different letters. However, letters with accents are treated the same as without (a and á are the same). This means that, when working with cryptograms, accent marks do not factor in. Also, ch, ll, and rr are NOT considered distinct letters. Thus, \"churro\" would have 6 letters: c-h-u-r-r-o. Therefore, the Spanish alphabet used for cryptograms is English alphabet plus ñ. \n",
    "\n",
    "\n",
    "Spanish cryptograms are often solved with patterns as well, with a few differences:\n",
    "\n",
    "* Look for the two most common letters, instead of the most common letters: E and A have relatively close frequency, and are much higher than the rest.\n",
    "* The most common spanish words are DE, LA, QUE, EL, EN. Since Spanish has far more two-letter words, it is helpful to decrypt them, using the placement of the letter E. QUE is the most common three-letter word, almost twice as common as the next ones.\n",
    "* Decrypting words using word fragments are much more difficult for teams without fluency in Spanish.\n",
    "\n",
    "\n"
   ]
  },
  {
   "cell_type": "markdown",
   "metadata": {},
   "source": [
    "### Frequency Table of Spanish letters:\n",
    "\n",
    "\n",
    "Spanish Letter Frequency Table\n",
    "\n",
    "| Letter | E | A | O |\tS | N |\tR |\tI |\tL |\tU |\tD |\tT |\tC |\tM |\tP |\n",
    "|:------:|---|---|---|---|---|---|---|---|---|---|----|---|---|---|\n",
    "|Frequency|\t14.08%|\t12.16%|\t9.20%|\t7.20%|\t6.83%|\t6.41%|\t5.98%|\t5.24%|\t4.69%|\t4.67%|\t4.60%|\t3.87%|\t3.08%| 2.89%|\n",
    "|Letter |\tB| \tH |\tQ |\tY |\tV |\tG |\tF |\tJ |\tZ |\tÑ |\tX |\tK |\tW | |\n",
    "|Frequency|\t1.49%|\t1.18%|\t1.11%|\t1.09%|\t1.05%|\t1.00%|\t0.69%|\t0.52%|\t0.47%|\t0.17%|\t0.14%|\t0.11%|\t0.04%| |\n"
   ]
  },
  {
   "cell_type": "markdown",
   "metadata": {},
   "source": [
    "### Resources\n",
    "\n",
    "* [Most Common Words in Spanish](https://spanishforyourjob.com/commonwords/)"
   ]
  }
 ],
 "metadata": {
  "kernelspec": {
   "display_name": "Python 3",
   "language": "python",
   "name": "python3"
  },
  "language_info": {
   "codemirror_mode": {
    "name": "ipython",
    "version": 3
   },
   "file_extension": ".py",
   "mimetype": "text/x-python",
   "name": "python",
   "nbconvert_exporter": "python",
   "pygments_lexer": "ipython3",
   "version": "3.8.5"
  }
 },
 "nbformat": 4,
 "nbformat_minor": 4
}
