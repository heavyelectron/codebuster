{
 "cells": [
  {
   "cell_type": "markdown",
   "metadata": {},
   "source": [
    "## Xenocrypt\n",
    "\n",
    "Xenocrypts are ciphers for foreign languages.\n",
    "\n",
    "At the invitational/Regional level, one cryptogram may be in Spanish as a challenge. At the state level, there will be at least one. It may be helpful if one of the partners is fluent in or has a few years of knowledge in Spanish.\n",
    "\n",
    "For Spanish cryptograms, n and ñ are treated as different letters. However, letters with accents are treated the same as without (a and á are the same). This means that, when working with cryptograms, accent marks do not factor in. Also, ch, ll, and rr are NOT considered distinct letters. Thus, \"churro\" would have 6 letters: c-h-u-r-r-o. Therefore, the Spanish alphabet used for cryptograms is English alphabet plus ñ. \n",
    "\n",
    "\n",
    "Spanish cryptograms are often solved with patterns as well, with a few differences:\n",
    "\n",
    "* Look for the two most common letters, instead of the most common letters: E and A have relatively close frequency, and are much higher than the rest.\n",
    "* The most common spanish words are DE, LA, QUE, EL, EN. Since Spanish has far more two-letter words, it is helpful to decrypt them, using the placement of the letter E. QUE is the most common three-letter word, almost twice as common as the next ones.\n",
    "* Decrypting words using word fragments are much more difficult for teams without fluency in Spanish.\n",
    "\n",
    "\n"
   ]
  },
  {
   "cell_type": "markdown",
   "metadata": {},
   "source": [
    "### Frequency Table of Spanish letters:\n",
    "\n",
    "\n",
    "Spanish Letter Frequency Table\n",
    "\n",
    "| Letter | E | A | O |\tS | N |\tR |\tI |\tL |\tU |\tD |\tT |\tC |\tM |\tP |\n",
    "|:------:|---|---|---|---|---|---|---|---|---|---|----|---|---|---|\n",
    "|Frequency|\t14.08%|\t12.16%|\t9.20%|\t7.20%|\t6.83%|\t6.41%|\t5.98%|\t5.24%|\t4.69%|\t4.67%|\t4.60%|\t3.87%|\t3.08%| 2.89%|\n",
    "|Letter |\tB| \tH |\tQ |\tY |\tV |\tG |\tF |\tJ |\tZ |\tÑ |\tX |\tK |\tW | |\n",
    "|Frequency|\t1.49%|\t1.18%|\t1.11%|\t1.09%|\t1.05%|\t1.00%|\t0.69%|\t0.52%|\t0.47%|\t0.17%|\t0.14%|\t0.11%|\t0.04%| |\n"
   ]
  },
  {
   "cell_type": "markdown",
   "metadata": {},
   "source": [
    "### Resources\n",
    "\n",
    "* [Most Common Words in Spanish](https://spanishforyourjob.com/commonwords/)"
   ]
  },
  {
   "cell_type": "markdown",
   "metadata": {},
   "source": [
    "### Python routines\n",
    "\n",
    "See [SpanishCipher.py](SpanishCipher.py) for code. "
   ]
  },
  {
   "cell_type": "code",
   "execution_count": 1,
   "metadata": {},
   "outputs": [
    {
     "name": "stdout",
     "output_type": "stream",
     "text": [
      "Ciphertext: Oakd wn oakd; twidn wn ioho.\n",
      "Decrypted : Algo es algo; menos es nada.\n",
      "Using a decryption helper\n",
      "Cipher table and letter frequency:\n",
      "| Cipher | A| B| C| D| E| F| G| H| I| J| K| L| M| N| Ñ| O| P| Q| R| S| T| U| V| W| X| Y| Z|\n",
      "|:------:|--|--|--|--|--|--|--|--|--|--|--|--|--|--|--|--|--|--|--|--|--|--|--|--|--|--|--|\n",
      "|Freqnecy| 2| 0| 0| 3| 0| 0| 0| 1| 2| 0| 2| 0| 0| 3| 0| 4| 0| 0| 0| 0| 1| 0| 0| 3| 0| 0| 0|\n",
      "| Plain  | L| R| H| O| B| V| Y| D| N| C| G| U| X| S| I| A| J| P| Q| K| M| F| W| E| T| Z| Ñ|\n",
      "Ct: Oakd wn oakd; twidn wn ioho.\n",
      "Pt: Algo es algo; menos es nada.\n"
     ]
    }
   ],
   "source": [
    "### Generate Cipher / Encrypt /Decrypt with Spanish Alphabet\n",
    "\n",
    "from SpanishCipher import *\n",
    "\n",
    "# message to be encrypted \n",
    "plaintext = \"Algo es algo; menos es nada.\"\n",
    "\n",
    "# create a random cipher table\n",
    "cipher = createCipher()\n",
    "\n",
    "# encrypt the message with the generated key \n",
    "ciphertext = encrypt(plaintext, cipher)\n",
    "\n",
    "# show the encrypted text\n",
    "print(\"Ciphertext:\", ciphertext)\n",
    "\n",
    "# inverse cipher to get the decipher key \n",
    "decipher = inverseCipherDict(cipher)\n",
    "\n",
    "# decrypt directly \n",
    "decrypted = decrypt(ciphertext, decipher)\n",
    "print(\"Decrypted :\", decrypted)\n",
    "\n",
    "\n",
    "# or use a decrypting helper \n",
    "print(\"Using a decryption helper\")\n",
    "decryptHelper(ciphertext, decipher)"
   ]
  },
  {
   "cell_type": "code",
   "execution_count": 2,
   "metadata": {},
   "outputs": [
    {
     "name": "stdout",
     "output_type": "stream",
     "text": [
      "The decipher dict: {'Q': 'E', 'Ñ': 'S'}\n",
      "Cipher table and letter frequency:\n",
      "| Cipher | A| B| C| D| E| F| G| H| I| J| K| L| M| N| Ñ| O| P| Q| R| S| T| U| V| W| X| Y| Z|\n",
      "|:------:|--|--|--|--|--|--|--|--|--|--|--|--|--|--|--|--|--|--|--|--|--|--|--|--|--|--|--|\n",
      "|Freqnecy| 0| 0| 0| 0| 0| 0| 0| 0| 0| 0| 0| 2| 0| 0| 3| 0| 3| 3| 1| 0| 0| 4| 0| 2| 2| 1| 0|\n",
      "| Plain  |  |  |  |  |  |  |  |  |  |  |  |  |  |  | S|  |  | E|  |  |  |  |  |  |  |  |  |\n",
      "Ct: Uwlp qñ uwlp; rqxpñ qñ xuyu.\n",
      "Pt: ---- es ----; -e--s es ----.\n",
      "The decipher dict: {'Q': 'E', 'Ñ': 'S', 'U': 'A'}\n",
      "Cipher table and letter frequency:\n",
      "| Cipher | A| B| C| D| E| F| G| H| I| J| K| L| M| N| Ñ| O| P| Q| R| S| T| U| V| W| X| Y| Z|\n",
      "|:------:|--|--|--|--|--|--|--|--|--|--|--|--|--|--|--|--|--|--|--|--|--|--|--|--|--|--|--|\n",
      "|Freqnecy| 0| 0| 0| 0| 0| 0| 0| 0| 0| 0| 0| 2| 0| 0| 3| 0| 3| 3| 1| 0| 0| 4| 0| 2| 2| 1| 0|\n",
      "| Plain  |  |  |  |  |  |  |  |  |  |  |  |  |  |  | S|  |  | E|  |  |  | A|  |  |  |  |  |\n",
      "Ct: Uwlp qñ uwlp; rqxpñ qñ xuyu.\n",
      "Pt: A--- es a---; -e--s es -a-a.\n"
     ]
    }
   ],
   "source": [
    "### Decryption Helper\n",
    "\n",
    "ciphertext = 'Uwlp qñ uwlp; rqxpñ qñ xuyu.'\n",
    "\n",
    "# write down your own (whole or partial) decipher in python dictionary \n",
    "# All in UPPER CASES\n",
    "\n",
    "decipher1 = {\n",
    "    'Ñ' : 'S',\n",
    "    'Q' : 'E'\n",
    "}\n",
    "\n",
    "# Or use two strings to add known or guessed letters \n",
    "Ct = 'QÑ'\n",
    "Pt = 'ES'\n",
    "decipher2 = dict(zip([i for i in Ct], [j for j in Pt]))\n",
    "print(\"The decipher dict:\", decipher2)\n",
    "\n",
    "# call helper to see results\n",
    "decryptHelper(ciphertext, decipher2)\n",
    "\n",
    "# add more guesses to decipher table/strings and try again\n",
    "Ct = 'QÑU'\n",
    "Pt = 'ESA'\n",
    "decipher2 = dict(zip([i for i in Ct], [j for j in Pt]))\n",
    "print(\"The decipher dict:\", decipher2)\n",
    "\n",
    "# call helper to see results\n",
    "decryptHelper(ciphertext, decipher2)\n"
   ]
  },
  {
   "cell_type": "markdown",
   "metadata": {},
   "source": [
    "### Examples\n",
    "\n",
    "#### Example 1 (From 2018 NC State)\n",
    "\n",
    "Solve this Xenocrypt which is a translation of a quote by Frank Clark into Spanish.\n",
    "\n",
    "```\n",
    "MGXG SP ATBXG MVLML XS VSLPYHLV LPEG EVLBXS, ZYB \n",
    "\n",
    "XLVZS KTSBML XS ÑTS PL WYXL ZS KGAUGBS XS KGZLZ \n",
    "\n",
    "USÑTSJLZ \n",
    "```\n",
    "\n"
   ]
  },
  {
   "cell_type": "code",
   "execution_count": 3,
   "metadata": {},
   "outputs": [
    {
     "name": "stdout",
     "output_type": "stream",
     "text": [
      "Cipher table and letter frequency:\n",
      "| Cipher | A| B| C| D| E| F| G| H| I| J| K| L| M| N| Ñ| O| P| Q| R| S| T| U| V| W| X| Y| Z|\n",
      "|:------:|--|--|--|--|--|--|--|--|--|--|--|--|--|--|--|--|--|--|--|--|--|--|--|--|--|--|--|\n",
      "|Freqnecy| 2| 5| 0| 0| 2| 0| 7| 1| 0| 1| 3|12| 4| 0| 2| 0| 4| 0| 0|13| 4| 2| 5| 1| 8| 3| 6|\n",
      "| Plain  |  |  |  |  | G|  | O|  |  |  |  | A|  |  |  |  | L|  |  | E|  |  |  |  | D|  |  |\n",
      "Ct: \n",
      "MGXG SP ATBXG MVLML XS VSLPYHLV LPEG EVLBXS, ZYB \n",
      "\n",
      "XLVZS KTSBML XS ÑTS PL WYXL ZS KGAUGBS XS KGZLZ \n",
      "\n",
      "USÑTSJLZ \n",
      "\n",
      "Pt: \n",
      "-ODO EL ---DO --A-A DE -EAL--A- ALGO G-A-DE, --- \n",
      "\n",
      "DA--E --E--A DE --E LA --DA -E -O--O-E DE -O-A- \n",
      "\n",
      "-E--E-A- \n",
      "\n"
     ]
    }
   ],
   "source": [
    "# use python helper\n",
    "\n",
    "ciphertext = \"\"\"\n",
    "MGXG SP ATBXG MVLML XS VSLPYHLV LPEG EVLBXS, ZYB \n",
    "\n",
    "XLVZS KTSBML XS ÑTS PL WYXL ZS KGAUGBS XS KGZLZ \n",
    "\n",
    "USÑTSJLZ \n",
    "\"\"\"\n",
    "\n",
    "# the decipher table\n",
    "Ct = 'XSLGPE'\n",
    "Pt = 'DEAOLG'\n",
    "decipher = dict(zip([i for i in Ct], [j for j in Pt]))\n",
    "\n",
    "# call helper to see results\n",
    "decryptHelper(ciphertext, decipher)"
   ]
  },
  {
   "cell_type": "code",
   "execution_count": null,
   "metadata": {},
   "outputs": [],
   "source": []
  }
 ],
 "metadata": {
  "kernelspec": {
   "display_name": "Python 3",
   "language": "python",
   "name": "python3"
  },
  "language_info": {
   "codemirror_mode": {
    "name": "ipython",
    "version": 3
   },
   "file_extension": ".py",
   "mimetype": "text/x-python",
   "name": "python",
   "nbconvert_exporter": "python",
   "pygments_lexer": "ipython3",
   "version": "3.8.5"
  }
 },
 "nbformat": 4,
 "nbformat_minor": 4
}
