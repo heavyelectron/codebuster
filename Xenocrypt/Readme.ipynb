{
 "cells": [
  {
   "cell_type": "markdown",
   "metadata": {},
   "source": [
    "## Xenocrypt\n",
    "\n",
    "Xenocrypts are ciphers for foreign languages.\n",
    "\n",
    "At the invitational/Regional level, one cryptogram may be in Spanish as a challenge. At the state level, there will be at least one. It may be helpful if one of the partners is fluent in or has a few years of knowledge in Spanish.\n",
    "\n",
    "For Spanish cryptograms, n and ñ are treated as different letters. However, letters with accents are treated the same as without (a and á are the same). This means that, when working with cryptograms, accent marks do not factor in. Also, ch, ll, and rr are NOT considered distinct letters. Thus, \"churro\" would have 6 letters: c-h-u-r-r-o. Therefore, the Spanish alphabet used for cryptograms is English alphabet plus ñ. \n",
    "\n",
    "\n",
    "Spanish cryptograms are often solved with patterns as well, with a few differences:\n",
    "\n",
    "* Look for the two most common letters, instead of the most common letters: E and A have relatively close frequency, and are much higher than the rest.\n",
    "* The most common spanish words are DE, LA, QUE, EL, EN. Since Spanish has far more two-letter words, it is helpful to decrypt them, using the placement of the letter E. QUE is the most common three-letter word, almost twice as common as the next ones.\n",
    "* Decrypting words using word fragments are much more difficult for teams without fluency in Spanish.\n",
    "\n",
    "\n"
   ]
  },
  {
   "cell_type": "markdown",
   "metadata": {},
   "source": [
    "### Frequency Table of Spanish letters:\n",
    "\n",
    "\n",
    "Spanish Letter Frequency Table\n",
    "\n",
    "| Letter | E | A | O |\tS | N |\tR |\tI |\tL |\tU |\tD |\tT |\tC |\tM |\tP |\n",
    "|:------:|---|---|---|---|---|---|---|---|---|---|----|---|---|---|\n",
    "|Frequency|\t14.08%|\t12.16%|\t9.20%|\t7.20%|\t6.83%|\t6.41%|\t5.98%|\t5.24%|\t4.69%|\t4.67%|\t4.60%|\t3.87%|\t3.08%| 2.89%|\n",
    "|Letter |\tB| \tH |\tQ |\tY |\tV |\tG |\tF |\tJ |\tZ |\tÑ |\tX |\tK |\tW | |\n",
    "|Frequency|\t1.49%|\t1.18%|\t1.11%|\t1.09%|\t1.05%|\t1.00%|\t0.69%|\t0.52%|\t0.47%|\t0.17%|\t0.14%|\t0.11%|\t0.04%| |\n"
   ]
  },
  {
   "cell_type": "markdown",
   "metadata": {},
   "source": [
    "### Most Common Words in Spanish\n",
    "\n",
    "* [Wikipedia](https://en.wikipedia.org/wiki/Most_common_words_in_Spanish)\n",
    "* [spanishforyourjob.com](https://spanishforyourjob.com/commonwords/)\n",
    "\n",
    "#### Most common one-letter words\n",
    "\n",
    "* 'y' : and\n",
    "* 'a' : to, at\n",
    "* 'o' : or\n",
    "\n",
    "#### Most common two-letter words\n",
    "\n",
    "* 'de' : of; from\n",
    "* 'la' : the; third person feminine singular pronoun\n",
    "* 'el' : the for third person masculine singular nouns\n",
    "* 'en' : in, on \n",
    "* 'se' : -self, oneself \n",
    "* 'un' : a, an; masculine\n",
    "* 'su' : his/her/its/your\n",
    "* 'es' : is; third person\n",
    "\n",
    "\n",
    "When two-letter words appear together, \n",
    "\n",
    "* 'de la' \n",
    "* 'en la' \n",
    "* 'es la' (especially in the beginning of a sentence).\n",
    "* 'no es'\n",
    "\n",
    "\n",
    "#### Most common three-letter words\n",
    "\n",
    "* 'que' : that, which\n",
    "* 'por' : by, for, through\n",
    "* 'por que' : why\n",
    "* 'con' : with\n",
    "* 'una' : a, an; feminine\n",
    "* 'los/las' : the (for plural masculine/feminine nouns)\n",
    "* 'del' : of the, from the, in the\n",
    "* 'dar' : but\n",
    "\n",
    "#### Most common four-letter words\n",
    "\n",
    "* 'para' : for, to\n",
    "* 'esta' : he is, she is, it is (non-permanent characteristics)\n",
    "* 'pero' : but\n",
    "* 'bien' : good\n"
   ]
  },
  {
   "cell_type": "markdown",
   "metadata": {},
   "source": [
    "### Python routines\n",
    "\n",
    "See [SpanishCipher.py](SpanishCipher.py) for code. \n",
    "\n",
    "#### Generate Cipher / Encrypt /Decrypt with Spanish Alphabet"
   ]
  },
  {
   "cell_type": "code",
   "execution_count": 1,
   "metadata": {},
   "outputs": [
    {
     "name": "stdout",
     "output_type": "stream",
     "text": [
      "The cipher dict: {'A': 'E', 'B': 'U', 'C': 'N', 'D': 'S', 'E': 'A', 'F': 'V', 'G': 'O', 'H': 'I', 'I': 'C', 'J': 'Q', 'K': 'D', 'L': 'M', 'M': 'R', 'N': 'Y', 'Ñ': 'T', 'O': 'W', 'P': 'K', 'Q': 'X', 'R': 'J', 'S': 'G', 'T': 'L', 'U': 'F', 'V': 'B', 'W': 'P', 'X': 'Ñ', 'Y': 'Z', 'Z': 'H'}\n",
      "Ciphertext: Emow ag emow; raywg ag yese.\n",
      "Decrypted : Algo es algo; menos es nada.\n"
     ]
    }
   ],
   "source": [
    "# Generate Cipher / Encrypt /Decrypt with Spanish Alphabet\n",
    "\n",
    "from SpanishCipher import *\n",
    "\n",
    "# message to be encrypted \n",
    "plaintext = \"Algo es algo; menos es nada.\"\n",
    "\n",
    "# create a random cipher table\n",
    "cipher = createCipher()\n",
    "print(\"The cipher dict:\", cipher)\n",
    "\n",
    "# encrypt the message with the generated key \n",
    "ciphertext = encrypt(plaintext, cipher)\n",
    "\n",
    "# show the encrypted text\n",
    "print(\"Ciphertext:\", ciphertext)\n",
    "\n",
    "# inverse cipher to get the decipher key \n",
    "decipher = inverseCipherDict(cipher)\n",
    "\n",
    "# decrypt directly \n",
    "decrypted = decrypt(ciphertext, decipher)\n",
    "print(\"Decrypted :\", decrypted)"
   ]
  },
  {
   "cell_type": "markdown",
   "metadata": {},
   "source": [
    "#### Use the decryption helper\n",
    "\n",
    "A decyption helper provides\n",
    "\n",
    "* letter counts\n",
    "* a decipher table in markdown format\n",
    "* partial decrypted message with the given/guessed letters\n",
    "* letters remain to be determined, in order of Spanish letter frequencies. "
   ]
  },
  {
   "cell_type": "code",
   "execution_count": 2,
   "metadata": {},
   "outputs": [
    {
     "name": "stdout",
     "output_type": "stream",
     "text": [
      "My first guess of the decipher dict: {'Q': 'E', 'Ñ': 'S'}\n",
      "Cipher table and letter frequency:\n",
      "| Cipher | A| B| C| D| E| F| G| H| I| J| K| L| M| N| Ñ| O| P| Q| R| S| T| U| V| W| X| Y| Z|\n",
      "|:------:|--|--|--|--|--|--|--|--|--|--|--|--|--|--|--|--|--|--|--|--|--|--|--|--|--|--|--|\n",
      "|Freqnecy| 0| 0| 0| 0| 0| 0| 0| 0| 0| 0| 0| 2| 0| 0| 3| 0| 3| 3| 1| 0| 0| 4| 0| 2| 2| 1| 0|\n",
      "| Plain  |  |  |  |  |  |  |  |  |  |  |  |  |  |  | S|  |  | E|  |  |  |  |  |  |  |  |  |\n",
      "Letters available (by Frequency):AONRILUDTCMPBHQYVGFJZÑXKW\n",
      "Ct: Uwlp qñ uwlp; rqxpñ qñ xuyu.\n",
      "Pt: ---- es ----; -e--s es ----.\n",
      "My second guess of the decipher dict: {'Q': 'E', 'Ñ': 'S', 'U': 'A'}\n",
      "Cipher table and letter frequency:\n",
      "| Cipher | A| B| C| D| E| F| G| H| I| J| K| L| M| N| Ñ| O| P| Q| R| S| T| U| V| W| X| Y| Z|\n",
      "|:------:|--|--|--|--|--|--|--|--|--|--|--|--|--|--|--|--|--|--|--|--|--|--|--|--|--|--|--|\n",
      "|Freqnecy| 0| 0| 0| 0| 0| 0| 0| 0| 0| 0| 0| 2| 0| 0| 3| 0| 3| 3| 1| 0| 0| 4| 0| 2| 2| 1| 0|\n",
      "| Plain  |  |  |  |  |  |  |  |  |  |  |  |  |  |  | S|  |  | E|  |  |  | A|  |  |  |  |  |\n",
      "Letters available (by Frequency):ONRILUDTCMPBHQYVGFJZÑXKW\n",
      "Ct: Uwlp qñ uwlp; rqxpñ qñ xuyu.\n",
      "Pt: A--- es a---; -e--s es -a-a.\n",
      "My final guess of the decipher dict {'Q': 'E', 'Ñ': 'S', 'U': 'A', 'P': 'O', 'X': 'N', 'Y': 'D', 'R': 'M', 'W': 'L', 'L': 'T'}\n",
      "Cipher table and letter frequency:\n",
      "| Cipher | A| B| C| D| E| F| G| H| I| J| K| L| M| N| Ñ| O| P| Q| R| S| T| U| V| W| X| Y| Z|\n",
      "|:------:|--|--|--|--|--|--|--|--|--|--|--|--|--|--|--|--|--|--|--|--|--|--|--|--|--|--|--|\n",
      "|Freqnecy| 0| 0| 0| 0| 0| 0| 0| 0| 0| 0| 0| 2| 0| 0| 3| 0| 3| 3| 1| 0| 0| 4| 0| 2| 2| 1| 0|\n",
      "| Plain  |  |  |  |  |  |  |  |  |  |  |  | T|  |  | S|  | O| E| M|  |  | A|  | L| N| D|  |\n",
      "Letters available (by Frequency):RIUCPBHQYVGFJZÑXKW\n",
      "Ct: Uwlp qñ uwlp; rqxpñ qñ xuyu.\n",
      "Pt: Alto es alto; menos es nada.\n"
     ]
    }
   ],
   "source": [
    "# Decryption Helper\n",
    "\n",
    "ciphertext = 'Uwlp qñ uwlp; rqxpñ qñ xuyu.'\n",
    "\n",
    "# write down your own (whole or partial) decipher in python dictionary \n",
    "# All in UPPER CASES\n",
    "decipher1 = {\n",
    "    'Ñ' : 'S',\n",
    "    'Q' : 'E'\n",
    "}\n",
    "\n",
    "# Or use two strings to add known or guessed letters \n",
    "Ct = 'QÑ'\n",
    "Pt = 'ES'\n",
    "decipher2 = dict(zip([i for i in Ct], [j for j in Pt]))\n",
    "print(\"My first guess of the decipher dict:\", decipher2)\n",
    "\n",
    "# call helper to see results\n",
    "decryptHelper(ciphertext, decipher2)\n",
    "\n",
    "# add more guesses to decipher table/strings and try again\n",
    "Ct = 'QÑU'\n",
    "Pt = 'ESA'\n",
    "decipher2 = dict(zip([i for i in Ct], [j for j in Pt]))\n",
    "print(\"My second guess of the decipher dict:\", decipher2)\n",
    "\n",
    "# call helper to see results\n",
    "decryptHelper(ciphertext, decipher2)\n",
    "\n",
    "# keep guessing until solved\n",
    "# add more guesses to decipher table/strings and try again\n",
    "Ct = 'QÑUPXYRWL'\n",
    "Pt = 'ESAONDMLT'\n",
    "decipher2 = dict(zip([i for i in Ct], [j for j in Pt]))\n",
    "print(\"My final guess of the decipher dict\", decipher2)\n",
    "\n",
    "# call helper to see results\n",
    "decryptHelper(ciphertext, decipher2)\n"
   ]
  },
  {
   "cell_type": "markdown",
   "metadata": {},
   "source": [
    "### Examples\n",
    "\n",
    "#### Example 1 (From 2018 NC State)\n",
    "\n",
    "Solve this Xenocrypt which is a translation of a quote by Frank Clark into Spanish.\n",
    "\n",
    "```\n",
    "MGXG SP ATBXG MVLML XS VSLPYHLV LPEG EVLBXS, ZYB \n",
    "\n",
    "XLVZS KTSBML XS ÑTS PL WYXL ZS KGAUGBS XS KGZLZ \n",
    "\n",
    "USÑTSJLZ \n",
    "```\n",
    "\n"
   ]
  },
  {
   "cell_type": "code",
   "execution_count": 3,
   "metadata": {},
   "outputs": [
    {
     "name": "stdout",
     "output_type": "stream",
     "text": [
      "Cipher table and letter frequency:\n",
      "| Cipher | A| B| C| D| E| F| G| H| I| J| K| L| M| N| Ñ| O| P| Q| R| S| T| U| V| W| X| Y| Z|\n",
      "|:------:|--|--|--|--|--|--|--|--|--|--|--|--|--|--|--|--|--|--|--|--|--|--|--|--|--|--|--|\n",
      "|Freqnecy| 2| 5| 0| 0| 2| 0| 7| 1| 0| 1| 3|12| 4| 0| 2| 0| 4| 0| 0|13| 4| 2| 5| 1| 8| 3| 6|\n",
      "| Plain  |  |  |  |  |  |  | O|  |  |  |  | A|  |  |  |  | L|  |  | E|  |  |  |  | D|  |  |\n",
      "Letters available (by Frequency):SNRIUTCMPBHQYVGFJZÑXKW\n",
      "Ct: \n",
      "MGXG SP ATBXG MVLML XS VSLPYHLV LPEG EVLBXS, ZYB \n",
      "XLVZS KTSBML XS ÑTS PL WYXL ZS KGAUGBS XS KGZLZ \n",
      "USÑTSJLZ \n",
      "\n",
      "Pt: \n",
      "-ODO EL ---DO --A-A DE -EAL--A- AL-O --A-DE, --- \n",
      "DA--E --E--A DE --E LA --DA -E -O--O-E DE -O-A- \n",
      "-E--E-A- \n",
      "\n",
      "Cipher table and letter frequency:\n",
      "| Cipher | A| B| C| D| E| F| G| H| I| J| K| L| M| N| Ñ| O| P| Q| R| S| T| U| V| W| X| Y| Z|\n",
      "|:------:|--|--|--|--|--|--|--|--|--|--|--|--|--|--|--|--|--|--|--|--|--|--|--|--|--|--|--|\n",
      "|Freqnecy| 2| 5| 0| 0| 2| 0| 7| 1| 0| 1| 3|12| 4| 0| 2| 0| 4| 0| 0|13| 4| 2| 5| 1| 8| 3| 6|\n",
      "| Plain  | M| N|  |  | G|  | O| Z|  | Ñ| C| A| T|  | Q|  | L|  |  | E| U| P| R| V| D| I| S|\n",
      "Letters available (by Frequency):BHYFJXKW\n",
      "Ct: \n",
      "MGXG SP ATBXG MVLML XS VSLPYHLV LPEG EVLBXS, ZYB \n",
      "XLVZS KTSBML XS ÑTS PL WYXL ZS KGAUGBS XS KGZLZ \n",
      "USÑTSJLZ \n",
      "\n",
      "Pt: \n",
      "TODO EL MUNDO TRATA DE REALIZAR ALGO GRANDE, SIN \n",
      "DARSE CUENTA DE QUE LA VIDA SE COMPONE DE COSAS \n",
      "PEQUEÑAS \n",
      "\n"
     ]
    }
   ],
   "source": [
    "# use python helper\n",
    "\n",
    "ciphertext = \"\"\"\n",
    "MGXG SP ATBXG MVLML XS VSLPYHLV LPEG EVLBXS, ZYB \n",
    "XLVZS KTSBML XS ÑTS PL WYXL ZS KGAUGBS XS KGZLZ \n",
    "USÑTSJLZ \n",
    "\"\"\"\n",
    "\n",
    "# first guess: from two-letter words and letter frequency\n",
    "Ct = 'XSLGP'\n",
    "Pt = 'DEAOL'\n",
    "decipher = dict(zip([i for i in Ct], [j for j in Pt]))\n",
    "\n",
    "# call helper to see results\n",
    "decryptHelper(ciphertext, decipher)\n",
    "\n",
    "# keep guessing until the puzzle is solved\n",
    "Ct = 'XSLGPEMVBATÑZKYHUWJ'\n",
    "Pt = 'DEAOLGTRNMUQSCIZPVÑ'\n",
    "decipher = dict(zip([i for i in Ct], [j for j in Pt]))\n",
    "decryptHelper(ciphertext, decipher)"
   ]
  },
  {
   "cell_type": "markdown",
   "metadata": {},
   "source": [
    "#### Example 2 \n",
    "\n",
    "From [gregorybard.com](http://www.gregorybard.com/GeneratedFiles/9/A.html)\n",
    "\n",
    "This message is an excerpt from diplomatic traffic between the Uruguayan ambassador in Venezuela back to the home office in Montevideo. They had been discussing the feasibility of opening up a consulate in a medium-sized Venezuelan city.\n",
    "\n",
    "This cryptogram contains at least one \"fixed point\". These are letters of plaintext that encrypt to themselves as ciphertext. (For example, J encrypts as J, or something like that.)\n",
    "\n",
    "Good luck!\n",
    "\n",
    "\n",
    "```\n",
    "VDH AMSVTEYDG NV WHD ASWLDL PNHNFEGDHD, ADCSTDG LNG NVTDLE TDAUSMD NH GD MNZSEH LN GEV DHLNV, WYSADLD D 57 OSGEKNTMEV LN GD QMEHTNMD AEH AEGEKYSD. GD ASWLDL NV GGDKDLD GD ASWLDL LN GD AEMLSDGSLDL. WYSADLD NH GEV DHLNV PNHNFEGDHEV, NVTD MELNDLD LN CDSVDXNV KEHTDIEVEV J HDTWMDGNV.\n",
    "```"
   ]
  },
  {
   "cell_type": "code",
   "execution_count": 4,
   "metadata": {
    "scrolled": true
   },
   "outputs": [
    {
     "name": "stdout",
     "output_type": "stream",
     "text": [
      "Cipher table and letter frequency:\n",
      "| Cipher | A| B| C| D| E| F| G| H| I| J| K| L| M| N| Ñ| O| P| Q| R| S| T| U| V| W| X| Y| Z|\n",
      "|:------:|--|--|--|--|--|--|--|--|--|--|--|--|--|--|--|--|--|--|--|--|--|--|--|--|--|--|--|\n",
      "|Freqnecy|11| 0| 2|41|19| 2|18|15| 1| 1| 4|22| 9|23| 0| 1| 2| 1| 0|14| 9| 1|17| 7| 1| 4| 1|\n",
      "| Plain  | C|  | P| A| O| Z| L| N| Ñ| Y| M| D| R| E|  | K| V| F|  | I| T| H| S| U| J| B| G|\n",
      "Letters available (by Frequency):QXW\n",
      "Ct: \n",
      "VDH AMSVTEYDG NV WHD ASWLDL PNHNFEGDHD, ADCSTDG LNG NVTDLE TDAUSMD NH GD MNZSEH LN GEV DHLNV, WYSADLD D 57 \n",
      "OSGEKNTMEV LN GD QMEHTNMD AEH AEGEKYSD. GD ASWLDL NV GGDKDLD GD ASWLDL LN GD AEMLSDGSLDL. WYSADLD NH GEV DHLNV \n",
      "PNHNFEGDHEV, NVTD MELNDLD LN CDSVDXNV KEHTDIEVEV J HDTWMDGNV.\n",
      "\n",
      "Pt: \n",
      "SAN CRISTOBAL ES UNA CIUDAD VENEZOLANA, CAPITAL DEL ESTADO TACHIRA EN LA REGION DE LOS ANDES, UBICADA A 57 \n",
      "KILOMETROS DE LA FRONTERA CON COLOMBIA. LA CIUDAD ES LLAMADA LA CIUDAD DE LA CORDIALIDAD. UBICADA EN LOS ANDES \n",
      "VENEZOLANOS, ESTA RODEADA DE PAISAJES MONTAÑOSOS Y NATURALES.\n",
      "\n"
     ]
    }
   ],
   "source": [
    "# We use the python decryption helper\n",
    "\n",
    "ciphertext = \"\"\"\n",
    "VDH AMSVTEYDG NV WHD ASWLDL PNHNFEGDHD, ADCSTDG LNG NVTDLE TDAUSMD NH GD MNZSEH LN GEV DHLNV, WYSADLD D 57 \n",
    "OSGEKNTMEV LN GD QMEHTNMD AEH AEGEKYSD. GD ASWLDL NV GGDKDLD GD ASWLDL LN GD AEMLSDGSLDL. WYSADLD NH GEV DHLNV \n",
    "PNHNFEGDHEV, NVTD MELNDLD LN CDSVDXNV KEHTDIEVEV J HDTWMDGNV.\n",
    "\"\"\"\n",
    "\n",
    "# you may notice my guesses from the order of the letters added\n",
    "# I guess first the single-letter word, two-letter words\n",
    "# then fill in more and more after more words are revealed\n",
    "\n",
    "# the decipher table with first guesses\n",
    "Ct = 'JLNGDHKVEWASTCMZYXIOUPFQ'\n",
    "Pt = 'YDELANMSOUCITPRGBJÑKHVZF'\n",
    "decipher = dict(zip([i for i in Ct], [j for j in Pt]))\n",
    "\n",
    "# call helper to see results\n",
    "decryptHelper(ciphertext, decipher)"
   ]
  },
  {
   "cell_type": "markdown",
   "metadata": {},
   "source": [
    "\"SAN CRISTOBAL IS A VENEZUELAN CITY, CAPITAL OF THE STATE TACHIRA IN THE ANDES REGION, LOCATED AT 57\n",
    "KILOMETERS OF THE BORDER WITH COLOMBIA. THE CITY IS CALLED THE CITY OF CORDIALITY. LOCATED IN THE ANDES\n",
    "VENEZUELANS, IS SURROUNDED BY MOUNTAIN AND NATURAL LANDSCAPES.\""
   ]
  },
  {
   "cell_type": "markdown",
   "metadata": {},
   "source": [
    "#### Example 3 \n",
    "\n",
    "from [toebes.com](https://toebes.com/codebusters/Samples/Code%20Busters%202018%20Sample%209%20Xenocrypt%20Solution.pdf)\n",
    "\n",
    "\n",
    "Solve this Xenocrypt which is a quote by Albert Einstein in Spanish.\n",
    "\n",
    "```\n",
    "MDJ FK FNFACKR IR FV KD CJQIUQCDK ADIFJD MF QIZKYQJ\n",
    "VRWJF KRV MFADV; FV KD YIQUD ADIFJD.\n",
    "```\n",
    "\n",
    "The link also provides detailed strategies how to solve the puzzle. I am using the decryption helper."
   ]
  },
  {
   "cell_type": "code",
   "execution_count": 5,
   "metadata": {
    "scrolled": true
   },
   "outputs": [
    {
     "name": "stdout",
     "output_type": "stream",
     "text": [
      "Cipher table and letter frequency:\n",
      "| Cipher | A| B| C| D| E| F| G| H| I| J| K| L| M| N| Ñ| O| P| Q| R| S| T| U| V| W| X| Y| Z|\n",
      "|:------:|--|--|--|--|--|--|--|--|--|--|--|--|--|--|--|--|--|--|--|--|--|--|--|--|--|--|--|\n",
      "|Freqnecy| 4| 0| 3|10| 0|10| 0| 0| 6| 6| 7| 0| 3| 1| 0| 0| 0| 5| 4| 0| 0| 2| 5| 1| 0| 2| 1|\n",
      "| Plain  |  |  |  | A|  | E|  |  |  |  | L|  |  |  |  |  |  |  |  |  |  |  | S|  |  |  |  |\n",
      "Letters available (by Frequency):ONRIUDTCMPBHQYVGFJZÑXKW\n",
      "Ct: \n",
      "MDJ FK FNFACKR IR FV KD CJQIUQCDK ADIFJD MF QIZKYQJ\n",
      "VRWJF KRV MFADV; FV KD YIQUD ADIFJD.\n",
      "\n",
      "Pt: \n",
      "-A- EL E-E--L- -- ES LA -------AL -A-E-A -E ---L---\n",
      "S---E L-S -E-AS; ES LA ----A -A-E-A.\n",
      "\n"
     ]
    }
   ],
   "source": [
    "ciphertext = \"\"\"\n",
    "MDJ FK FNFACKR IR FV KD CJQIUQCDK ADIFJD MF QIZKYQJ\n",
    "VRWJF KRV MFADV; FV KD YIQUD ADIFJD.\n",
    "\"\"\"\n",
    "\n",
    "# the decipher table with first guesses on the letter frequency and two-letter words\n",
    "Ct = 'FDKV'\n",
    "Pt = 'EALS'\n",
    "decipher = dict(zip([i for i in Ct], [j for j in Pt]))\n",
    "\n",
    "# call helper to see results\n",
    "decryptHelper(ciphertext, decipher)"
   ]
  },
  {
   "cell_type": "code",
   "execution_count": 6,
   "metadata": {
    "scrolled": true
   },
   "outputs": [
    {
     "name": "stdout",
     "output_type": "stream",
     "text": [
      "Cipher table and letter frequency:\n",
      "| Cipher | A| B| C| D| E| F| G| H| I| J| K| L| M| N| Ñ| O| P| Q| R| S| T| U| V| W| X| Y| Z|\n",
      "|:------:|--|--|--|--|--|--|--|--|--|--|--|--|--|--|--|--|--|--|--|--|--|--|--|--|--|--|--|\n",
      "|Freqnecy| 4| 0| 3|10| 0|10| 0| 0| 6| 6| 7| 0| 3| 1| 0| 0| 0| 5| 4| 0| 0| 2| 5| 1| 0| 2| 1|\n",
      "| Plain  | M|  | P| A|  | E|  |  | N| R| L|  | D| J|  |  |  | I| O|  |  | C| S| B|  | U| F|\n",
      "Letters available (by Frequency):THQYVGZÑXKW\n",
      "Ct: \n",
      "MDJ FK FNFACKR IR FV KD CJQIUQCDK ADIFJD MF QIZKYQJ\n",
      "VRWJF KRV MFADV; FV KD YIQUD ADIFJD.\n",
      "\n",
      "Pt: \n",
      "DAR EL EJEMPLO NO ES LA PRINCIPAL MANERA DE INFLUIR\n",
      "SOBRE LOS DEMAS; ES LA UNICA MANERA.\n",
      "\n"
     ]
    }
   ],
   "source": [
    "# more guesses\n",
    "Ct = 'FDKVIJQMRACYUNWZ'\n",
    "Pt = 'EALSNRIDOMPUCJBF'\n",
    "decipher = dict(zip([i for i in Ct], [j for j in Pt]))\n",
    "\n",
    "# call helper to see results\n",
    "decryptHelper(ciphertext, decipher)"
   ]
  },
  {
   "cell_type": "markdown",
   "metadata": {},
   "source": [
    "\"GIVING THE EXAMPLE IS NOT THE MAIN WAY TO INFLUENCE OTHERS; IT'S THE ONLY WAY\""
   ]
  }
 ],
 "metadata": {
  "kernelspec": {
   "display_name": "Python 3",
   "language": "python",
   "name": "python3"
  },
  "language_info": {
   "codemirror_mode": {
    "name": "ipython",
    "version": 3
   },
   "file_extension": ".py",
   "mimetype": "text/x-python",
   "name": "python",
   "nbconvert_exporter": "python",
   "pygments_lexer": "ipython3",
   "version": "3.8.5"
  }
 },
 "nbformat": 4,
 "nbformat_minor": 4
}
