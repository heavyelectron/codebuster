{
 "cells": [
  {
   "cell_type": "markdown",
   "metadata": {},
   "source": [
    "## Tables \n",
    "\n",
    "Some tables are usually provided during the Codebusters Competitions \n",
    "\n"
   ]
  },
  {
   "cell_type": "markdown",
   "metadata": {},
   "source": [
    "### the Vigenère table \n",
    "\n",
    "\n",
    "| |A|B|C|D|E|F|G|H|I|J|K|L|M|N|O|P|Q|R|S|T|U|V|W|X|Y|Z|\n",
    "|-|-|-|-|-|-|-|-|-|-|-|-|-|-|-|-|-|-|-|-|-|-|-|-|-|-|-|\n",
    "|A|A|B|C|D|E|F|G|H|I|J|K|L|M|N|O|P|Q|R|S|T|U|V|W|X|Y|Z|\n",
    "|B|B|C|D|E|F|G|H|I|J|K|L|M|N|O|P|Q|R|S|T|U|V|W|X|Y|Z|A|\n",
    "|C|C|D|E|F|G|H|I|J|K|L|M|N|O|P|Q|R|S|T|U|V|W|X|Y|Z|A|B|\n",
    "|D|D|E|F|G|H|I|J|K|L|M|N|O|P|Q|R|S|T|U|V|W|X|Y|Z|A|B|C|\n",
    "|E|E|F|G|H|I|J|K|L|M|N|O|P|Q|R|S|T|U|V|W|X|Y|Z|A|B|C|D|\n",
    "|F|F|G|H|I|J|K|L|M|N|O|P|Q|R|S|T|U|V|W|X|Y|Z|A|B|C|D|E|\n",
    "|G|G|H|I|J|K|L|M|N|O|P|Q|R|S|T|U|V|W|X|Y|Z|A|B|C|D|E|F|\n",
    "|H|H|I|J|K|L|M|N|O|P|Q|R|S|T|U|V|W|X|Y|Z|A|B|C|D|E|F|G|\n",
    "|I|I|J|K|L|M|N|O|P|Q|R|S|T|U|V|W|X|Y|Z|A|B|C|D|E|F|G|H|\n",
    "|J|J|K|L|M|N|O|P|Q|R|S|T|U|V|W|X|Y|Z|A|B|C|D|E|F|G|H|I|\n",
    "|K|K|L|M|N|O|P|Q|R|S|T|U|V|W|X|Y|Z|A|B|C|D|E|F|G|H|I|J|\n",
    "|L|L|M|N|O|P|Q|R|S|T|U|V|W|X|Y|Z|A|B|C|D|E|F|G|H|I|J|K|\n",
    "|M|M|N|O|P|Q|R|S|T|U|V|W|X|Y|Z|A|B|C|D|E|F|G|H|I|J|K|L|\n",
    "|N|N|O|P|Q|R|S|T|U|V|W|X|Y|Z|A|B|C|D|E|F|G|H|I|J|K|L|M|\n",
    "|O|O|P|Q|R|S|T|U|V|W|X|Y|Z|A|B|C|D|E|F|G|H|I|J|K|L|M|N|\n",
    "|P|P|Q|R|S|T|U|V|W|X|Y|Z|A|B|C|D|E|F|G|H|I|J|K|L|M|N|O|\n",
    "|Q|Q|R|S|T|U|V|W|X|Y|Z|A|B|C|D|E|F|G|H|I|J|K|L|M|N|O|P|\n",
    "|R|R|S|T|U|V|W|X|Y|Z|A|B|C|D|E|F|G|H|I|J|K|L|M|N|O|P|Q|\n",
    "|S|S|T|U|V|W|X|Y|Z|A|B|C|D|E|F|G|H|I|J|K|L|M|N|O|P|Q|R|\n",
    "|T|T|U|V|W|X|Y|Z|A|B|C|D|E|F|G|H|I|J|K|L|M|N|O|P|Q|R|S|\n",
    "|U|U|V|W|X|Y|Z|A|B|C|D|E|F|G|H|I|J|K|L|M|N|O|P|Q|R|S|T|\n",
    "|V|V|W|X|Y|Z|A|B|C|D|E|F|G|H|I|J|K|L|M|N|O|P|Q|R|S|T|U|\n",
    "|W|W|X|Y|Z|A|B|C|D|E|F|G|H|I|J|K|L|M|N|O|P|Q|R|S|T|U|V|\n",
    "|X|X|Y|Z|A|B|C|D|E|F|G|H|I|J|K|L|M|N|O|P|Q|R|S|T|U|V|W|\n",
    "|Y|Y|Z|A|B|C|D|E|F|G|H|I|J|K|L|M|N|O|P|Q|R|S|T|U|V|W|X|\n",
    "|Z|Z|A|B|C|D|E|F|G|H|I|J|K|L|M|N|O|P|Q|R|S|T|U|V|W|X|Y|\n",
    "\n",
    "\n"
   ]
  },
  {
   "cell_type": "markdown",
   "metadata": {},
   "source": [
    "### the English Alphabet values\n",
    "\n",
    "|Letters  | A| B| C| D| E| F| G| H| I| J| K| L| M| N| O| P| Q| R| S| T| U| V| W| X| Y| Z|\n",
    "|:-------:|--|--|--|--|--|--|--|--|--|--|--|--|--|--|--|--|--|--|--|--|--|--|--|--|--|--|\n",
    "|x        | 0| 1| 2| 3| 4| 5| 6| 7| 8| 9|10|11|12|13|14|15|16|17|18|19|20|21|22|23|24|25|\n",
    "\n",
    "\n"
   ]
  },
  {
   "cell_type": "markdown",
   "metadata": {},
   "source": [
    "### the modular multiplicative inverse of common numbers coprime with $m=26$.\n",
    "\n",
    "\n",
    "|$a$      | 1| 3| 5| 7| 9|11|15|17|19|21|23|25|\n",
    "|:-------:|--|--|--|--|--|--|--|--|--|--|--|--|\n",
    "|$a^{-1}$ | 1| 9|21|15| 3|19| 7|23|11| 5|17|25|\n",
    "\n"
   ]
  },
  {
   "cell_type": "markdown",
   "metadata": {},
   "source": [
    "### Baconian Alphabet \n",
    "\n",
    "(24-Letter Variant)\n",
    "\n",
    "| Letter |\tCode |\tBinary |  Decimal |  Letter |\tCode |\tBinary |  Decimal |\n",
    "|:-------|------:|--------:|---------:| :-------|------:|--------:|---------:| \n",
    "| A\t| aaaaa | 00000 |  0 | N\t| abbaa\t| 01100 | 12 | \n",
    "| B\t| aaaab\t| 00001 |  1 | O\t| abbab\t| 01101 | 13 |\n",
    "| C\t| aaaba\t| 00010 |  2 | P\t| abbba\t| 01110 | 14 | \n",
    "| D\t| aaabb\t| 00011 |  3 | Q\t| abbbb\t| 01111 | 15 |\n",
    "| E\t| aabaa\t| 00100 |  4 | R\t| baaaa\t| 10000 | 16 |\n",
    "| F\t| aabab\t| 00101 |  5 | S\t| baaab\t| 10001 | 17 |\n",
    "| G\t| aabba\t| 00110 |  6 | T\t| baaba\t| 10010 | 18 |\n",
    "| H\t| aabbb\t| 00111 |  7 | U, V | baabb | 10011 | 19 |\n",
    "| I, J\t| abaaa\t| 01000 |  8 | W\t| babaa\t| 10100 | 20 |\n",
    "| K\t| abaab\t| 01001 |  9 | X\t| babab\t| 10101 | 21 |\n",
    "| L\t| ababa\t| 01010 | 10 | Y\t| babba\t| 10110 | 22 |\n",
    "| M\t| ababb\t| 01011 | 11 | Z | babbb\t| 10111 | 23 |\n",
    "\n",
    "\n",
    "26-Letter Variant\n",
    "\n",
    "| Letter |\tCode |\tBinary |  Decimal |\n",
    "|:-------|------:|--------:|---------:| \n",
    "| A\t| aaaaa | 00000 |  0 |\n",
    "| B\t| aaaab\t| 00001 |  1 |\n",
    "| C\t| aaaba\t| 00010 |  2 |\n",
    "| D\t| aaabb\t| 00011 |  3 |\n",
    "| E\t| aabaa\t| 00100 |  4 | \n",
    "| F\t| aabab\t| 00101 |  5 | \n",
    "| G\t| aabba\t| 00110 |  6 |\n",
    "| H\t| aabbb\t| 00111 |  7 |\n",
    "| I | abaaa\t| 01000 |  8 | \n",
    "| J\t| abaab\t| 01001 |  9 | \n",
    "| K\t| ababa\t| 01010 | 10 |\n",
    "| L\t| ababb\t| 01011 | 11 |\n",
    "| M\t| abbaa\t| 01100 | 12 | \n",
    "| N\t| abbab\t| 01101 | 13 |\n",
    "| O\t| abbba\t| 01110 | 14 | \n",
    "| P\t| abbbb\t| 01111 | 15 |\n",
    "| Q\t| baaaa\t| 10000 | 16 |\n",
    "| R\t| baaab\t| 10001 | 17 | \n",
    "| S\t| baaba\t| 10010 | 18 |\n",
    "| T | baabb | 10011 | 19 |\n",
    "| U\t| babaa\t| 10100 | 20 |\n",
    "| V\t| babab\t| 10101 | 21 |\n",
    "| W\t| babba\t| 10110 | 22 | \n",
    "| X | babbb\t| 10111 | 23 |\n",
    "| Y | babbb\t| 11000 | 24 |\n",
    "| Z | babbb\t| 11001 | 25 |\n",
    "\n"
   ]
  },
  {
   "cell_type": "markdown",
   "metadata": {},
   "source": [
    "### Frequency Table of English letters\n",
    "\n",
    "| Letter    |E | T | A | O | I | N | S | R | H | L | D | C | U | \n",
    "|----|--|--|--|--|--|--|--|--|--|--|--|--|--|\n",
    "| Frequency |12.51% | 9.25% | 8.04% | 7.60% | 7.26% | 7.09% | 6.54% | 6.12% | 5.49% | 4.14% | 3.99% | 3.06% | 2.71% | \n",
    "| Letter    |M | F | P | G | W | Y | B | V | K | X | J | Q | Z | \n",
    "| Frequency |2.53% | 2.30% | 2.00% | 1.96% | 1.92% | 1.73% | 1.54% | 0.99% | 0.67% | 0.19% | 0.16% | 0.11% | 0.09% | \n"
   ]
  },
  {
   "cell_type": "markdown",
   "metadata": {},
   "source": [
    "### Frequency Table of Spanish letters:\n",
    "\n",
    "\n",
    "| Letter | E | A | O |\tS | N |\tR |\tI |\tL |\tU |\tD |\tT |\tC |\tM |\tP |\n",
    "|:------:|---|---|---|---|---|---|---|---|---|---|----|---|---|---|\n",
    "|Frequency|\t14.08%|\t12.16%|\t9.20%|\t7.20%|\t6.83%|\t6.41%|\t5.98%|\t5.24%|\t4.69%|\t4.67%|\t4.60%|\t3.87%|\t3.08%| 2.89%|\n",
    "|Letter |\tB| \tH |\tQ |\tY |\tV |\tG |\tF |\tJ |\tZ |\tÑ |\tX |\tK |\tW | |\n",
    "|Frequency|\t1.49%|\t1.18%|\t1.11%|\t1.09%|\t1.05%|\t1.00%|\t0.69%|\t0.52%|\t0.47%|\t0.17%|\t0.14%|\t0.11%|\t0.04%| |"
   ]
  },
  {
   "cell_type": "markdown",
   "metadata": {},
   "source": [
    "### Morse Code\n",
    "```\n",
    "A ●– B –●●● C –●–● D –●● E ● F ●●–● G --● \n",
    "H ●●●● I ●● J ●--- K –●– L ●–●● M –– N –● \n",
    "O ––– P ●––● Q ––●– R ●–● S ●●● T –\n",
    "U ●●– V ●●●– W ●–– X –●●– Y –●–– Z ––●●\n",
    "0 ––––– 1 ●–––– 2 ●●––– 3 ●●●–– 4 ●●●●– \n",
    "5 ●●●●● 6 –●●●● 7 ––●●● 8 –––●● 9 ––––●\n",
    "```"
   ]
  }
 ],
 "metadata": {
  "kernelspec": {
   "display_name": "Python 3",
   "language": "python",
   "name": "python3"
  },
  "language_info": {
   "codemirror_mode": {
    "name": "ipython",
    "version": 3
   },
   "file_extension": ".py",
   "mimetype": "text/x-python",
   "name": "python",
   "nbconvert_exporter": "python",
   "pygments_lexer": "ipython3",
   "version": "3.8.5"
  }
 },
 "nbformat": 4,
 "nbformat_minor": 4
}
