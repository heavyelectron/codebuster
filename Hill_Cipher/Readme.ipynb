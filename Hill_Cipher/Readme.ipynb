{
 "cells": [
  {
   "cell_type": "markdown",
   "metadata": {},
   "source": [
    "## Hill Cipher\n",
    "\n",
    "The Hill Cipher is a variant of the Affine ciphers. It uses a 2x2 or 3x3 matrix (linear algebra) to encrypt messages in batches of 2 or 3 letters. \n",
    "\n",
    "For example, we use a 2x2 matrix as the key, \n",
    "\n",
    "$$\n",
    "{\\cal K}=\n",
    "\\begin{pmatrix}\n",
    "Z & A \\\\\n",
    "C & H \n",
    "\\end{pmatrix}\n",
    "$$\n",
    "\n",
    "to encrypt the message 'CODEBUSTERS'. The message is grouped in pairs \"CO DE BU ST ER S**Z**\". Notice that a Z is added in order to make the last group a group of two. \n",
    "\n",
    "We use the value for each letter as following,\n",
    "\n",
    "|Letters  | A| B| C| D| E| F| G| H| I| J| K| L| M| N| O| P| Q| R| S| T| U| V| W| X| Y| Z|\n",
    "|:-------:|--|--|--|--|--|--|--|--|--|--|--|--|--|--|--|--|--|--|--|--|--|--|--|--|--|--|\n",
    "|Numbers  | 0| 1| 2| 3| 4| 5| 6| 7| 8| 9|10|11|12|13|14|15|16|17|18|19|20|21|22|23|24|25|\n",
    "\n",
    "\n",
    "to encrypt 'CO'\n",
    "\n",
    "$$\n",
    "\\begin{pmatrix}\n",
    "Z & A \\\\\n",
    "C & H \n",
    "\\end{pmatrix}\n",
    "\\begin{pmatrix}\n",
    "C \\\\\n",
    "O \n",
    "\\end{pmatrix}\n",
    "=\n",
    "\\begin{pmatrix}\n",
    "25 & 0 \\\\\n",
    "2 & 7 \n",
    "\\end{pmatrix}\n",
    "\\begin{pmatrix}\n",
    "2 \\\\\n",
    "14 \n",
    "\\end{pmatrix}\n",
    "=\\begin{pmatrix}\n",
    "50 \\\\\n",
    "102\n",
    "\\end{pmatrix}\n",
    "\\pmod {26}\n",
    "=\\begin{pmatrix}\n",
    "24 \\\\\n",
    "24\n",
    "\\end{pmatrix}\n",
    "=\\begin{pmatrix}\n",
    "Y \\\\\n",
    "Y\n",
    "\\end{pmatrix}\n",
    "$$\n",
    "\n",
    "The cipher text is therefore 'YY'. \n",
    "\n",
    "\n",
    "To decrypt the ciphertext, we need to know the (modular multiplicative) inverse matrix of the encryption key, i.e., \n",
    "${\\cal K}^{-1} {\\cal K} \\mod (26) = I$, where $I$ is the identity matrix. More details and the methods to solve the \n",
    "modular multiplicative inverse matrix are provided in the [Modular Inversion](../Modular/Readme.ipynb), where we also show the solutions for this example. The inverse matrix is found to be \n",
    "\n",
    "$$ \n",
    "{\\cal K}^{-1} = \n",
    "\\begin{pmatrix}\n",
    "25 & 0 \\\\\n",
    "4 & 15 \n",
    "\\end{pmatrix}\n",
    "$$\n",
    "\n",
    "to decrypt 'YY', \n",
    "\n",
    "$$\n",
    "\\begin{pmatrix}\n",
    "25 & 0 \\\\\n",
    "4 & 15 \n",
    "\\end{pmatrix}\n",
    "\\begin{pmatrix}\n",
    "-2 \\\\\n",
    "-2 \n",
    "\\end{pmatrix}\n",
    "=\n",
    "\\begin{pmatrix}\n",
    "-50 \\\\\n",
    "-38 \n",
    "\\end{pmatrix} \\pmod{26} \n",
    "=\\begin{pmatrix}\n",
    "2 \\\\\n",
    "14 \n",
    "\\end{pmatrix}=\n",
    "\\begin{pmatrix}\n",
    "C \\\\\n",
    "O \n",
    "\\end{pmatrix}\n",
    "$$ \n"
   ]
  },
  {
   "cell_type": "markdown",
   "metadata": {},
   "source": [
    "### Examples \n",
    "\n",
    "There are some examples at the Python Utilities section below. The Hill Cipher is not so difficult as long as you are familiar with linear algebra, and modular arithmetic. It just takes a long time to do all the calculations. I will not go through the detailed steps of the encyption/decryption.  \n",
    "\n",
    "The most difficult part is to compute the modular multiplicative inverse matrix. You are required to do it when e.g., being asked to decrypt a message but the encryption matrix is given; to encrypt a message but the decryption key is given. You may follow the standard procedure by calculating its determinant and its adjugate matrix. Or, I have found that the Gaussian elimination procedure is easier and faster. See [Modular Inversion](../Modular/Readme.ipynb) for instructions and examples, where step-by-step instructions are provided. \n",
    "\n",
    "For a Hill Cipher problem in Codebusters, either the encryption or the decryption key has to be provided. Otherwise, decrypting the ciphertext is not human solvable. With computers, one might be able to search the key space for small matrices, e.g., 2x2, there are at most $26^4$ keys. Note that not all matrices serve as Hill Cipher keys; it needs to be modular invertible, or its determinant needs to be coprime with 26. This limits the key space. \n",
    "\n",
    "Note also, the key might be provided as a 4 or 9 letter keyword, instead of a matrix. "
   ]
  },
  {
   "cell_type": "markdown",
   "metadata": {},
   "source": [
    "### Python Utilities\n",
    "\n",
    "Various routines are developed for Hill Cipher. See [Python code](HillCipher.py) for details. "
   ]
  },
  {
   "cell_type": "code",
   "execution_count": 1,
   "metadata": {},
   "outputs": [
    {
     "name": "stdout",
     "output_type": "stream",
     "text": [
      "The key is\n",
      "[[ 1 21 11]\n",
      " [ 2 15 19]\n",
      " [20 13 20]]\n",
      "Ciphertext    : HT'N S YUQRPEVZS BDAZC\n",
      "The Decipher Key is\n",
      "[[11 21  0]\n",
      " [22 10  7]\n",
      " [ 2  5 15]]\n",
      "Decrypted text: IT'S A WONDERFUL LIFEZ\n"
     ]
    },
    {
     "data": {
      "text/plain": [
       "array([[1, 0, 0],\n",
       "       [0, 1, 0],\n",
       "       [0, 0, 1]])"
      ]
     },
     "execution_count": 1,
     "metadata": {},
     "output_type": "execute_result"
    }
   ],
   "source": [
    "### Create a 3x3 Hill Cipher and Encrypt/Decrypt a message\n",
    "from HillCipher import *\n",
    "\n",
    "#### create a random 3x3 matrix as key\n",
    "cipherKey = keyGenerator(size=3)\n",
    "# print the key\n",
    "print(\"The key is\")\n",
    "print(cipherKey)\n",
    "\n",
    "#### to encrypt a message\n",
    "# plain text to be encrypted\n",
    "plaintext = \"It's a wonderful life\"\n",
    "# encrypt the plain text\n",
    "ciphertext = encrypt(plaintext, cipherKey)\n",
    "# print the cipher text\n",
    "print(\"Ciphertext    :\", ciphertext)\n",
    "\n",
    "#### to decrypt a cipher text, if needed\n",
    "# get the modular multiplicative inverse for the decipher key\n",
    "decipherKey = modInverseMatrix(cipherKey)\n",
    "# print the decipher key\n",
    "print(\"The Decipher Key is\")\n",
    "print(decipherKey)\n",
    "# decrypt with the decipher key\n",
    "decrypted = decrypt(ciphertext, decipherKey)\n",
    "# print the decrypted message\n",
    "print(\"Decrypted text:\", decrypted)\n",
    "\n",
    "cipherKey.dot(decipherKey) % 26"
   ]
  },
  {
   "cell_type": "code",
   "execution_count": 2,
   "metadata": {},
   "outputs": [
    {
     "name": "stdout",
     "output_type": "stream",
     "text": [
      "The key is\n",
      "[[19 25]\n",
      " [24 13]]\n",
      "Ciphertext    : DX'E Q OIKNHFXQQ RRXZF\n",
      "The Decipher Key is\n",
      "[[13 19]\n",
      " [12 23]]\n",
      "Decrypted text: IT'S A WONDERFUL LIFEZ\n"
     ]
    },
    {
     "data": {
      "text/plain": [
       "array([[1, 0],\n",
       "       [0, 1]])"
      ]
     },
     "execution_count": 2,
     "metadata": {},
     "output_type": "execute_result"
    }
   ],
   "source": [
    "### Create a 2x2 Hill Cipher and Encrypt/Decrypt a message\n",
    "from HillCipher import *\n",
    "\n",
    "#### create a random 2x2 matrix as key\n",
    "cipherKey = keyGenerator(size=2)\n",
    "# print the key\n",
    "print(\"The key is\")\n",
    "print(cipherKey)\n",
    "\n",
    "#### to encrypt a message\n",
    "# plain text to be encrypted\n",
    "plaintext = \"It's a wonderful life\"\n",
    "# encrypt the plain text\n",
    "ciphertext = encrypt(plaintext, cipherKey)\n",
    "# print the cipher text\n",
    "print(\"Ciphertext    :\", ciphertext)\n",
    "\n",
    "#### to decrypt a cipher text, if needed\n",
    "# get the modular multiplicative inverse for the decipher key\n",
    "decipherKey = modInverseMatrix(cipherKey)\n",
    "# print the decipher key\n",
    "print(\"The Decipher Key is\")\n",
    "print(decipherKey)\n",
    "# decrypt with the decipher key\n",
    "decrypted = decrypt(ciphertext, decipherKey)\n",
    "# print the decrypted message\n",
    "print(\"Decrypted text:\", decrypted)\n",
    "\n",
    "cipherKey.dot(decipherKey) % 26"
   ]
  },
  {
   "cell_type": "markdown",
   "metadata": {},
   "source": [
    "#### Solve  Problem 5 in [scilympiad.com practice set](https://scilympiad.com/data/org/sopractice/public/CodebustersCTest.StudentVersion_53.pdf) \n",
    "\n",
    "Decrypt the following ciphertext. It was encrypted using a Hill Cipher with the provided key...\n",
    "\n",
    "\n",
    "$$ \\begin{pmatrix}\n",
    "6 & 24 & 1 \\\\\n",
    "13 & 16 & 10 \\\\\n",
    "20 & 17 & 15\n",
    "\\end{pmatrix}\n",
    "$$\n",
    "\n",
    "```\n",
    "FGDIVCX BJTC IZNVI QMXYI LZ XI CUSU DJ GZ YGSM RP WAWU PV CN SRRT OGYUUDEKG\n",
    "\n",
    "```\n",
    "\n"
   ]
  },
  {
   "cell_type": "code",
   "execution_count": 3,
   "metadata": {},
   "outputs": [
    {
     "name": "stdout",
     "output_type": "stream",
     "text": [
      "The Decipher Key is\n",
      "[[ 8  5 10]\n",
      " [21  8 21]\n",
      " [21 12  8]]\n",
      "Decrypted text: WITHOUT EVIL THERE COULD BE NO GOOD SO IT MUST BE GOOD TO BE EVIL SOMETIMES\n"
     ]
    }
   ],
   "source": [
    "from HillCipher import *\n",
    "# write the encryption as a numpy array\n",
    "cipherKey = np.asarray([[6,24,1],[13,16,10],[20,17,15]])\n",
    "# the cipher text\n",
    "ciphertext = \"FGDIVCX BJTC IZNVI QMXYI LZ XI CUSU DJ GZ YGSM RP WAWU PV CN SRRT OGYUUDEKG\"\n",
    "\n",
    "# to decrypt it, we first get the decryption key by modular inverse\n",
    "decipherKey = modInverseMatrix(cipherKey)\n",
    "# show it \n",
    "print(\"The Decipher Key is\")\n",
    "print(decipherKey)\n",
    "# decrypt with the decipher key\n",
    "decrypted = decrypt(ciphertext, decipherKey)\n",
    "# print the decrypted message\n",
    "print(\"Decrypted text:\", decrypted)"
   ]
  },
  {
   "cell_type": "markdown",
   "metadata": {},
   "source": [
    "#### Solve  Problem 6 in [scilympiad.com practice set](https://scilympiad.com/data/org/sopractice/public/CodebustersCTest.StudentVersion_53.pdf) \n",
    "\n",
    "Encrypt the following plaintext using a Hill cipher with the decryption key below.\n",
    "\n",
    "$$ \\begin{pmatrix}\n",
    "25 & 0 \\\\\n",
    "2 & 7\n",
    "\\end{pmatrix}\n",
    "$$\n",
    "\n",
    "```\n",
    "Softly call the muster let the comrade answer here\n",
    "```"
   ]
  },
  {
   "cell_type": "code",
   "execution_count": 4,
   "metadata": {},
   "outputs": [
    {
     "name": "stdout",
     "output_type": "stream",
     "text": [
      "The Cipher Key is\n",
      "[[25  0]\n",
      " [ 4 15]]\n",
      "Plaintext : Softly call the muster let the comrade answer here\n",
      "Ciphertext: IWVTPO YIPB HZW OGMHGJ ZWP HZW UMCJQXU ANIMWL TKJY\n"
     ]
    }
   ],
   "source": [
    "from HillCipher import *\n",
    "\n",
    "# write the decryption as a numpy array\n",
    "decipherKey = np.asarray([[25, 0],[2, 7]])\n",
    "\n",
    "# since it's the decryption key, we need the encryption key by modular inverse\n",
    "cipherKey = modInverseMatrix(decipherKey)\n",
    "# show me the key\n",
    "print(\"The Cipher Key is\")\n",
    "print(cipherKey)\n",
    "\n",
    "# the plain text\n",
    "plaintext = \"Softly call the muster let the comrade answer here\"\n",
    "\n",
    "# encrypt with the cipher key\n",
    "ciphertext = encrypt(plaintext, cipherKey)\n",
    "# print the decrypted message\n",
    "print(\"Plaintext :\", plaintext)\n",
    "print(\"Ciphertext:\", ciphertext)"
   ]
  }
 ],
 "metadata": {
  "kernelspec": {
   "display_name": "Python 3",
   "language": "python",
   "name": "python3"
  },
  "language_info": {
   "codemirror_mode": {
    "name": "ipython",
    "version": 3
   },
   "file_extension": ".py",
   "mimetype": "text/x-python",
   "name": "python",
   "nbconvert_exporter": "python",
   "pygments_lexer": "ipython3",
   "version": "3.8.5"
  }
 },
 "nbformat": 4,
 "nbformat_minor": 4
}
