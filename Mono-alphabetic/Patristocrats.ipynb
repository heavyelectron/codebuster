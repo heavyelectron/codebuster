{
 "cells": [
  {
   "cell_type": "markdown",
   "metadata": {},
   "source": [
    "### Patristocrats Examples\n",
    "\n",
    "#### Example 1 \n",
    "\n",
    "\n",
    "Solve this Patristocrat which is a quote by Nikola Tesla and begins with MY BELIEF. \n",
    "\n",
    "```\n",
    "LPHIN MIBMU BMWLM XTNTG QBJQL YIXUT RMQXR EIRWZ\n",
    "IWIGT WKUTW IIDIW MXYWQ YQWRM QXRQR EINTH QWTXK\n",
    "UTJWM BMJIU LTKI\n",
    "```\n",
    "\n",
    "\n",
    "We use the [Python utilities](MonoAlphabeticCipher.py) to print out our steps. \n",
    "\n",
    "Step1, since the beginning letters are given, we have a partial decipher table. "
   ]
  },
  {
   "cell_type": "code",
   "execution_count": 1,
   "metadata": {},
   "outputs": [
    {
     "name": "stdout",
     "output_type": "stream",
     "text": [
      "Cipher table and letter frequency:\n",
      "| Cipher | A| B| C| D| E| F| G| H| I| J| K| L| M| N| O| P| Q| R| S| T| U| V| W| X| Y| Z|\n",
      "|:------:|--|--|--|--|--|--|--|--|--|--|--|--|--|--|--|--|--|--|--|--|--|--|--|--|--|--|\n",
      "|Freqnecy| 0| 4| 0| 1| 2| 0| 2| 2|12| 3| 3| 4| 9| 3| 0| 1| 8| 6| 0| 9| 5| 0|10| 6| 3| 1|\n",
      "| Plain  |  | F|  |  |  |  |  | B| E|  |  | M| I| L|  | Y|  |  |  |  |  |  |  |  |  |  |\n",
      "Letters available (by Frequency):TAONSRHDCUPGWVKXJQZ\n",
      "Ct: \n",
      "LPHIN MIBMU BMWLM XTNTG QBJQL YIXUT RMQXR EIRWZ\n",
      "IWIGT WKUTW IIDIW MXYWQ YQWRM QXRQR EINTH QWTXK\n",
      "UTJWM BMJIU LTKI\n",
      "\n",
      "Pt: \n",
      "MYBEL IEFI- FI-MI --L-- -F--M -E--- -I--- -E---\n",
      "E-E-- ----- EE-E- I---- ----I ----- -EL-B -----\n",
      "----I FI-E- M--E\n",
      "\n"
     ]
    }
   ],
   "source": [
    "# import my package\n",
    "from MonoAlphabeticCipher import *\n",
    "# my cipher text\n",
    "ciphertext = '''\n",
    "LPHIN MIBMU BMWLM XTNTG QBJQL YIXUT RMQXR EIRWZ\n",
    "IWIGT WKUTW IIDIW MXYWQ YQWRM QXRQR EINTH QWTXK\n",
    "UTJWM BMJIU LTKI\n",
    "'''\n",
    "\n",
    "# make two strings/lists of Cipher/Plain letters\n",
    "Ct='LPHINMB'\n",
    "Pt='MYBELIF'\n",
    "# use the strings/lists to construct a (partial) decipher key\n",
    "decipher = dict(zip([i for i in Ct], [j for j in Pt]))\n",
    "\n",
    "# use the decryption helper for letter counts, partial decryptions\n",
    "decryptHelper(ciphertext, key=decipher)"
   ]
  },
  {
   "cell_type": "markdown",
   "metadata": {},
   "source": [
    "Step2,  From the beginning words \"MYBEL IEFI- FI-MI\", we guess either \"IN FIRM\", or \"IS FIRM\". Also we notice repetions of 'REI' which may hint 'THE'. "
   ]
  },
  {
   "cell_type": "code",
   "execution_count": 2,
   "metadata": {
    "scrolled": true
   },
   "outputs": [
    {
     "name": "stdout",
     "output_type": "stream",
     "text": [
      "Cipher table and letter frequency:\n",
      "| Cipher | A| B| C| D| E| F| G| H| I| J| K| L| M| N| O| P| Q| R| S| T| U| V| W| X| Y| Z|\n",
      "|:------:|--|--|--|--|--|--|--|--|--|--|--|--|--|--|--|--|--|--|--|--|--|--|--|--|--|--|\n",
      "|Freqnecy| 0| 4| 0| 1| 2| 0| 2| 2|12| 3| 3| 4| 9| 3| 0| 1| 8| 6| 0| 9| 5| 0|10| 6| 3| 1|\n",
      "| Plain  |  | F|  |  | H|  |  | B| E|  |  | M| I| L|  | Y|  | T|  |  | S|  | R|  |  |  |\n",
      "Letters available (by Frequency):AONDCUPGWVKXJQZ\n",
      "Ct: \n",
      "LPHIN MIBMU BMWLM XTNTG QBJQL YIXUT RMQXR EIRWZ\n",
      "IWIGT WKUTW IIDIW MXYWQ YQWRM QXRQR EINTH QWTXK\n",
      "UTJWM BMJIU LTKI\n",
      "\n",
      "Pt: \n",
      "MYBEL IEFIS FIRMI --L-- -F--M -E-S- TI--T HETR-\n",
      "ERE-- R-S-R EE-ER I--R- --RTI --T-T HEL-B -R---\n",
      "S--RI FI-ES M--E\n",
      "\n"
     ]
    }
   ],
   "source": [
    "# add more keys\n",
    "Ct='LPHINMBUWRE'\n",
    "Pt='MYBELIFSRTH'\n",
    "# use the strings/lists to construct a (partial) decipher key\n",
    "decipher = dict(zip([i for i in Ct], [j for j in Pt]))\n",
    "\n",
    "# use the decryption helper for letter counts, partial decryptions\n",
    "decryptHelper(ciphertext, key=decipher)"
   ]
  },
  {
   "cell_type": "markdown",
   "metadata": {},
   "source": [
    "Step3, the most frequent letters left are now 'T':9, 'Q':8, and 'X':6. We try them with 'TAONSR'."
   ]
  },
  {
   "cell_type": "code",
   "execution_count": 3,
   "metadata": {
    "scrolled": true
   },
   "outputs": [
    {
     "name": "stdout",
     "output_type": "stream",
     "text": [
      "Cipher table and letter frequency:\n",
      "| Cipher | A| B| C| D| E| F| G| H| I| J| K| L| M| N| O| P| Q| R| S| T| U| V| W| X| Y| Z|\n",
      "|:------:|--|--|--|--|--|--|--|--|--|--|--|--|--|--|--|--|--|--|--|--|--|--|--|--|--|--|\n",
      "|Freqnecy| 0| 4| 0| 1| 2| 0| 2| 2|12| 3| 3| 4| 9| 3| 0| 1| 8| 6| 0| 9| 5| 0|10| 6| 3| 1|\n",
      "| Plain  |  | F|  |  | H|  |  | B| E|  |  | M| I| L|  | Y| O| T|  | A| S|  | R| N|  |  |\n",
      "Letters available (by Frequency):DCUPGWVKXJQZ\n",
      "Ct: \n",
      "LPHIN MIBMU BMWLM XTNTG QBJQL YIXUT RMQXR EIRWZ\n",
      "IWIGT WKUTW IIDIW MXYWQ YQWRM QXRQR EINTH QWTXK\n",
      "UTJWM BMJIU LTKI\n",
      "\n",
      "Pt: \n",
      "MYBEL IEFIS FIRMI NALA- OF-OM -ENSA TIONT HETR-\n",
      "ERE-A R-SAR EE-ER IN-RO -ORTI ONTOT HELAB ORAN-\n",
      "SA-RI FI-ES MA-E\n",
      "\n"
     ]
    }
   ],
   "source": [
    "# add more keys\n",
    "Ct='LPHINMBUWRETQX'\n",
    "Pt='MYBELIFSRTHAON'\n",
    "# use the strings/lists to construct a (partial) decipher key\n",
    "decipher = dict(zip([i for i in Ct], [j for j in Pt]))\n",
    "\n",
    "# use the decryption helper for letter counts, partial decryptions\n",
    "decryptHelper(ciphertext, key=decipher)"
   ]
  },
  {
   "cell_type": "markdown",
   "metadata": {},
   "source": [
    "Step4, the rest are not so difficult, as more words are revealed."
   ]
  },
  {
   "cell_type": "code",
   "execution_count": 4,
   "metadata": {},
   "outputs": [
    {
     "name": "stdout",
     "output_type": "stream",
     "text": [
      "Cipher table and letter frequency:\n",
      "| Cipher | A| B| C| D| E| F| G| H| I| J| K| L| M| N| O| P| Q| R| S| T| U| V| W| X| Y| Z|\n",
      "|:------:|--|--|--|--|--|--|--|--|--|--|--|--|--|--|--|--|--|--|--|--|--|--|--|--|--|--|\n",
      "|Freqnecy| 0| 4| 0| 1| 2| 0| 2| 2|12| 3| 3| 4| 9| 3| 0| 1| 8| 6| 0| 9| 5| 0|10| 6| 3| 1|\n",
      "| Plain  |  | F|  | V| H|  | W| B| E| C| D| M| I| L|  | Y| O| T|  | A| S|  | R| N| P| U|\n",
      "Letters available (by Frequency):GKXJQZ\n",
      "Ct: \n",
      "LPHIN MIBMU BMWLM XTNTG QBJQL YIXUT RMQXR EIRWZ\n",
      "IWIGT WKUTW IIDIW MXYWQ YQWRM QXRQR EINTH QWTXK\n",
      "UTJWM BMJIU LTKI\n",
      "\n",
      "Pt: \n",
      "MYBEL IEFIS FIRMI NALAW OFCOM PENSA TIONT HETRU\n",
      "EREWA RDSAR EEVER INPRO PORTI ONTOT HELAB ORAND\n",
      "SACRI FICES MADE\n",
      "\n"
     ]
    }
   ],
   "source": [
    "# add more keys\n",
    "Ct='LPHINMBUWRETQXGJYKDZ'\n",
    "Pt='MYBELIFSRTHAONWCPDVU'\n",
    "# use the strings/lists to construct a (partial) decipher key\n",
    "decipher = dict(zip([i for i in Ct], [j for j in Pt]))\n",
    "\n",
    "# use the decryption helper for letter counts, partial decryptions\n",
    "decryptHelper(ciphertext, key=decipher)"
   ]
  },
  {
   "cell_type": "markdown",
   "metadata": {},
   "source": [
    "#### Example 2 \n",
    "\n",
    "From [NC state 2008](https://toebes.com/codebusters/Samples/Code%20Busters%202018%20Test%20State.pdf)\n",
    "\n",
    "Solve this K1 Key encoded Patristocrat which is a quote by Isaac Asimov and starts with\n",
    "the word FACTS.\n",
    "\n",
    "```\n",
    "RLJAZ LMILS ILXWR QMNJU ZLOHA NVQIM NANZW OKFLZ\n",
    "BJJIZ ZRBKA SIWMF ASLAJ LOJWO CIMAA SISIL XNOAW\n",
    "LZALA IKFVL OZNWO\n",
    "```\n",
    "\n",
    "Step1, use 'FACTS' to construct a partial decipher table and substitue the letters in. "
   ]
  },
  {
   "cell_type": "code",
   "execution_count": 5,
   "metadata": {},
   "outputs": [
    {
     "name": "stdout",
     "output_type": "stream",
     "text": [
      "Cipher table and letter frequency:\n",
      "| Cipher | A| B| C| D| E| F| G| H| I| J| K| L| M| N| O| P| Q| R| S| T| U| V| W| X| Y| Z|\n",
      "|:------:|--|--|--|--|--|--|--|--|--|--|--|--|--|--|--|--|--|--|--|--|--|--|--|--|--|--|\n",
      "|Freqnecy|11| 2| 1| 0| 0| 3| 0| 1| 9| 6| 3|12| 5| 6| 7| 0| 2| 3| 5| 0| 1| 2| 6| 2| 0| 8|\n",
      "| Plain  | T|  |  |  |  |  |  |  |  | C|  | A|  |  |  |  |  | F|  |  |  |  |  |  |  | S|\n",
      "Letters available (by Frequency):EOINRHLDUMPGWYBVKXJQZ\n",
      "Ct: \n",
      "RLJAZ LMILS ILXWR QMNJU ZLOHA NVQIM NANZW OKFLZ\n",
      "BJJIZ ZRBKA SIWMF ASLAJ LOJWO CIMAA SISIL XNOAW\n",
      "LZALA IKFVL OZNWO\n",
      "\n",
      "Pt: \n",
      "FACTS A--A- -A--F ---C- SA--T ----- -T-S- ---AS\n",
      "-CC-S SF--T ----- T-ATC A-C-- ---TT ----A ---T-\n",
      "ASTAT ----A -S---\n",
      "\n"
     ]
    }
   ],
   "source": [
    "# my cipher text\n",
    "ciphertext = '''\n",
    "RLJAZ LMILS ILXWR QMNJU ZLOHA NVQIM NANZW OKFLZ\n",
    "BJJIZ ZRBKA SIWMF ASLAJ LOJWO CIMAA SISIL XNOAW\n",
    "LZALA IKFVL OZNWO\n",
    "'''\n",
    "\n",
    "# make two strings/lists of Cipher/Plain letters\n",
    "Ct='RLJAZ'\n",
    "Pt='FACTS'\n",
    "# use the strings/lists to construct a (partial) decipher key\n",
    "decipher = dict(zip([i for i in Ct], [j for j in Pt]))\n",
    "\n",
    "# use the decryption helper for letter counts, partial decryptions\n",
    "decryptHelper(ciphertext, key=decipher)"
   ]
  },
  {
   "cell_type": "markdown",
   "metadata": {},
   "source": [
    "Step2, 'FACTS A--' implies 'AND' or 'ARE'. Consider the letter frequency, 'I':9. We guess 'ARE'. Also, look for 'THE', we guess 'S'->'h'. "
   ]
  },
  {
   "cell_type": "code",
   "execution_count": 6,
   "metadata": {},
   "outputs": [
    {
     "name": "stdout",
     "output_type": "stream",
     "text": [
      "Cipher table and letter frequency:\n",
      "| Cipher | A| B| C| D| E| F| G| H| I| J| K| L| M| N| O| P| Q| R| S| T| U| V| W| X| Y| Z|\n",
      "|:------:|--|--|--|--|--|--|--|--|--|--|--|--|--|--|--|--|--|--|--|--|--|--|--|--|--|--|\n",
      "|Freqnecy|11| 2| 1| 0| 0| 3| 0| 1| 9| 6| 3|12| 5| 6| 7| 0| 2| 3| 5| 0| 1| 2| 6| 2| 0| 8|\n",
      "| Plain  | T|  |  |  |  |  |  |  | E| C|  | A| R|  |  |  |  | F| H|  |  |  |  |  |  | S|\n",
      "Letters available (by Frequency):OINLDUMPGWYBVKXJQZ\n",
      "Ct: \n",
      "RLJAZ LMILS ILXWR QMNJU ZLOHA NVQIM NANZW OKFLZ\n",
      "BJJIZ ZRBKA SIWMF ASLAJ LOJWO CIMAA SISIL XNOAW\n",
      "LZALA IKFVL OZNWO\n",
      "\n",
      "Pt: \n",
      "FACTS AREAH EA--F -R-C- SA--T ---ER -T-S- ---AS\n",
      "-CCES SF--T HE-R- THATC A-C-- -ERTT HEHEA ---T-\n",
      "ASTAT E---A -S---\n",
      "\n"
     ]
    }
   ],
   "source": [
    "# add more keys\n",
    "Ct='RLJAZMIS'\n",
    "Pt='FACTSREH'\n",
    "# use the strings/lists to construct a (partial) decipher key\n",
    "decipher = dict(zip([i for i in Ct], [j for j in Pt]))\n",
    "\n",
    "# use the decryption helper for letter counts, partial decryptions\n",
    "decryptHelper(ciphertext, key=decipher)"
   ]
  },
  {
   "cell_type": "markdown",
   "metadata": {},
   "source": [
    "Step3, frequent letters left are 'W':6, 'O':7, 'N':6, to be replaced by 'IONL..'. From \"THATCA-C---ERT', we guess 'THAT CAN CONVERT'. Try also 'N'->'I'.   "
   ]
  },
  {
   "cell_type": "code",
   "execution_count": 7,
   "metadata": {},
   "outputs": [
    {
     "name": "stdout",
     "output_type": "stream",
     "text": [
      "Cipher table and letter frequency:\n",
      "| Cipher | A| B| C| D| E| F| G| H| I| J| K| L| M| N| O| P| Q| R| S| T| U| V| W| X| Y| Z|\n",
      "|:------:|--|--|--|--|--|--|--|--|--|--|--|--|--|--|--|--|--|--|--|--|--|--|--|--|--|--|\n",
      "|Freqnecy|11| 2| 1| 0| 0| 3| 0| 1| 9| 6| 3|12| 5| 6| 7| 0| 2| 3| 5| 0| 1| 2| 6| 2| 0| 8|\n",
      "| Plain  | T|  | V|  |  |  |  |  | E| C|  | A| R| I| N|  |  | F| H|  |  |  | O|  |  | S|\n",
      "Letters available (by Frequency):LDUMPGWYBKXJQZ\n",
      "Ct: \n",
      "RLJAZ LMILS ILXWR QMNJU ZLOHA NVQIM NANZW OKFLZ\n",
      "BJJIZ ZRBKA SIWMF ASLAJ LOJWO CIMAA SISIL XNOAW\n",
      "LZALA IKFVL OZNWO\n",
      "\n",
      "Pt: \n",
      "FACTS AREAH EA-OF -RIC- SAN-T I--ER ITISO N--AS\n",
      "-CCES SF--T HEOR- THATC ANCON VERTT HEHEA -INTO\n",
      "ASTAT E---A NSION\n",
      "\n"
     ]
    }
   ],
   "source": [
    "# add more keys\n",
    "Ct='RLJAZMISOWCN'\n",
    "Pt='FACTSREHNOVI'\n",
    "# use the strings/lists to construct a (partial) decipher key\n",
    "decipher = dict(zip([i for i in Ct], [j for j in Pt]))\n",
    "\n",
    "# use the decryption helper for letter counts, partial decryptions\n",
    "decryptHelper(ciphertext, key=decipher)"
   ]
  },
  {
   "cell_type": "markdown",
   "metadata": {},
   "source": [
    "Step4, also note this is K1. So besides a keyword, the plain letters follow the alphabet sequence. So, 'O' to 'S' are 'PQ', 'T' to 'V' is 'U'. We also notice 'WOKF' as 'ONLY', and contine 'WXZ'."
   ]
  },
  {
   "cell_type": "code",
   "execution_count": 8,
   "metadata": {
    "scrolled": true
   },
   "outputs": [
    {
     "name": "stdout",
     "output_type": "stream",
     "text": [
      "Cipher table and letter frequency:\n",
      "| Cipher | A| B| C| D| E| F| G| H| I| J| K| L| M| N| O| P| Q| R| S| T| U| V| W| X| Y| Z|\n",
      "|:------:|--|--|--|--|--|--|--|--|--|--|--|--|--|--|--|--|--|--|--|--|--|--|--|--|--|--|\n",
      "|Freqnecy|11| 2| 1| 0| 0| 3| 0| 1| 9| 6| 3|12| 5| 6| 7| 0| 2| 3| 5| 0| 1| 2| 6| 2| 0| 8|\n",
      "| Plain  | T| U| V| W| X| Y| Z|  | E| C| L| A| R| I| N|  |  | F| H|  |  |  | O| P| Q| S|\n",
      "Letters available (by Frequency):DMGBKJ\n",
      "Ct: \n",
      "RLJAZ LMILS ILXWR QMNJU ZLOHA NVQIM NANZW OKFLZ\n",
      "BJJIZ ZRBKA SIWMF ASLAJ LOJWO CIMAA SISIL XNOAW\n",
      "LZALA IKFVL OZNWO\n",
      "\n",
      "Pt: \n",
      "FACTS AREAH EAPOF -RIC- SAN-T I--ER ITISO NLYAS\n",
      "UCCES SFULT HEORY THATC ANCON VERTT HEHEA PINTO\n",
      "ASTAT ELY-A NSION\n",
      "\n"
     ]
    }
   ],
   "source": [
    "# add more keys\n",
    "Ct='RLJAZMISOWCNBXYKFDEG'\n",
    "Pt='FACTSREHNOVIUPQLYWXZ'\n",
    "# use the strings/lists to construct a (partial) decipher key\n",
    "decipher = dict(zip([i for i in Ct], [j for j in Pt]))\n",
    "\n",
    "# use the decryption helper for letter counts, partial decryptions\n",
    "decryptHelper(ciphertext, key=decipher)"
   ]
  },
  {
   "cell_type": "markdown",
   "metadata": {},
   "source": [
    "Step5, the keyword is \"DECLARING\". We can complete the key table and decrypt the message. "
   ]
  },
  {
   "cell_type": "code",
   "execution_count": 9,
   "metadata": {},
   "outputs": [
    {
     "name": "stdout",
     "output_type": "stream",
     "text": [
      "Cipher table and letter frequency:\n",
      "| Cipher | A| B| C| D| E| F| G| H| I| J| K| L| M| N| O| P| Q| R| S| T| U| V| W| X| Y| Z|\n",
      "|:------:|--|--|--|--|--|--|--|--|--|--|--|--|--|--|--|--|--|--|--|--|--|--|--|--|--|--|\n",
      "|Freqnecy|11| 2| 1| 0| 0| 3| 0| 1| 9| 6| 3|12| 5| 6| 7| 0| 2| 3| 5| 0| 1| 2| 6| 2| 0| 8|\n",
      "| Plain  | T| U| V| W| X| Y| Z| D| E| C| L| A| R| I| N| G| B| F| H| J| K| M| O| P| Q| S|\n",
      "Letters available (by Frequency):\n",
      "Ct: \n",
      "RLJAZ LMILS ILXWR QMNJU ZLOHA NVQIM NANZW OKFLZ\n",
      "BJJIZ ZRBKA SIWMF ASLAJ LOJWO CIMAA SISIL XNOAW\n",
      "LZALA IKFVL OZNWO\n",
      "\n",
      "Pt: \n",
      "FACTS AREAH EAPOF BRICK SANDT IMBER ITISO NLYAS\n",
      "UCCES SFULT HEORY THATC ANCON VERTT HEHEA PINTO\n",
      "ASTAT ELYMA NSION\n",
      "\n"
     ]
    }
   ],
   "source": [
    "# the complete key table\n",
    "Ct='RLJAZMISOWCNBXYKFDEGHPQTUV'\n",
    "Pt='FACTSREHNOVIUPQLYWXZDGBJKM'\n",
    "# use the strings/lists to construct a (partial) decipher key\n",
    "decipher = dict(zip([i for i in Ct], [j for j in Pt]))\n",
    "\n",
    "# use the decryption helper for letter counts\n",
    "decryptHelper(ciphertext, key=decipher)"
   ]
  },
  {
   "cell_type": "code",
   "execution_count": null,
   "metadata": {},
   "outputs": [],
   "source": []
  }
 ],
 "metadata": {
  "kernelspec": {
   "display_name": "Python 3",
   "language": "python",
   "name": "python3"
  },
  "language_info": {
   "codemirror_mode": {
    "name": "ipython",
    "version": 3
   },
   "file_extension": ".py",
   "mimetype": "text/x-python",
   "name": "python",
   "nbconvert_exporter": "python",
   "pygments_lexer": "ipython3",
   "version": "3.8.5"
  }
 },
 "nbformat": 4,
 "nbformat_minor": 4
}
