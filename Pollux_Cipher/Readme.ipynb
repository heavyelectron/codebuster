{
 "cells": [
  {
   "cell_type": "markdown",
   "metadata": {},
   "source": [
    "## Pollux Cipher (80-100 plaintext letters)\n",
    "\n",
    "\n",
    "Each digit from 0 to 9 represents a dot, dash, or a divider(x). Two dividers(xx) are used to separate words. We usually use 4 dots and 3 of the other symbols in any order. Morse code alphabet is used.\n",
    "\n",
    "Morse Code Table\n",
    "```\n",
    "A •- B -••• C -•-• D -•• E • F ••-• G --• \n",
    "H •••• I •• J •--- K -•- L •-•• M -- N -• \n",
    "O --- P •--• Q --•- R •-• S ••• T - \n",
    "U ••- V •••- W •-- X -••- Y -•-- Z --•• \n",
    "1 •---- 2 ••--- 3 •••-- 4 ••••- 5 ••••• \n",
    "6 -•••• 7 --••• 8 ---•• 9 ----• 0 ----- \n",
    ", --••-- . •-•-•- ? ••--•• \n",
    "/ -••-•  - -••••- ( -•--• ) -•--•- \n",
    "```\n",
    "\n",
    "### Encrpytion \n",
    "\n",
    "For example, for a plain text \"Luck helps\", we first encode it with the Morse code, \n",
    "\n",
    "```\n",
    "Plaint text: L    u   c    k    h    e l    p    s.\n",
    "Morse code:  •-••x••-x-•-•x-•-xx••••x•x•-••x•--•x••• \n",
    "```\n",
    "\n",
    "the with a key \n",
    "\n",
    "```\n",
    "1234567890 \n",
    "x-••x•--x•\n",
    "```\n",
    "\n",
    "we can further encrypt the dot, dash and dividers into a cipher text in terms of a series of numbers: \n",
    "\n",
    "```\n",
    "Plaint text: L    u   c    k    h    e l    p    s.\n",
    "Morse code:  •-••x••-x-•-•x-•-xx••••x•x•-••x•--•x••• \n",
    "Ciphertext:  086393425702417685963041456234908745360 \n",
    "```\n",
    "\n",
    "Of course, the cipher text could be different if you different numbers for the same symbol. \n",
    "\n",
    "\n",
    "### Decrpytion\n",
    "\n",
    "If the key is provided, the decryption is straightforward. However, most of the time, only partial keys are provided and you need to figure out the rest. \n",
    "\n",
    "The best solving procedure is to try to locate the x's, remembering that 3 x's in a row are impossible. Because of the length of Morse characters, either the second, third, fourth, or fifth number in the ciphertext must be a divider (unless special signs or numbers are used). \n",
    "\n",
    "\n",
    "**Example**\n",
    "Problem 12 from [Practice Set](https://scilympiad.com/data/org/sopractice/public/CodebustersCTest.StudentVersion.pdf)\n",
    "\n",
    "```\n",
    "Decrypt the following Pollux cipher.\n",
    "Dots are at least 7, 4, and 2. \n",
    "Dashes are at least 5 and 9.\n",
    "Xs are at least 6.\n",
    "\n",
    "295071194976274405956958624704009698501594158911868956690472214608565890899652\n",
    "```\n",
    "\n",
    "We first try to set up a key table, and translate the known symbols. \n",
    "\n",
    "```\n",
    "• 2,4,7\n",
    "- 5,9\n",
    "x 6\n",
    "unknown 0,1,3,8\n",
    "\n",
    "295071194976274405956958624704009698501594158911868956690472214608565890899652\n",
    "•--n•nn-•-•x••••n---x--nx•••n•nn-x-n-nn--•n-n-nnnxn--xx-n••••n•xnn-x-n-nn--x-•\n",
    "```\n",
    "\n",
    "Remember there must be a 'x' in the first few codes, so either '0=x', '1=x' or both='x'. Next is a guessing game. \n",
    "\n",
    "```\n",
    "If 0 =x, •-- = W, • = E, and 1=x because it's too long to get to next 'x'  \n",
    "If 0\\=x, 1=- to get •--- = J, still 1=x, to reach the next 'x'. \n",
    "'WE' makes a word while 'JE' does not. So \n",
    "\n",
    "• 2,4,7\n",
    "- 5,9\n",
    "x 6, 0, 1\n",
    "unknown 3,8\n",
    "\n",
    "295071194976274405956958624704009698501594158911868956690472214608565890899652\n",
    "•--x•xx-•-•x••••x---x--nx•••x•xx-x-n-xx--•x-n-xxnxn--xx-x••••x•xxn-x-n-xn--x-•\n",
    "W   E  C    H    O   nnn S   E  T \n",
    "\n",
    "Now we realize 8=- to get \"CHOOSE\", 3 doesn't show up. So we can go ahead to solve the puzzle. \n",
    "\n",
    "• 2,4,7\n",
    "- 5,9, 8\n",
    "x 6, 0, 1\n",
    "unknown 3 \n",
    "\n",
    "295071194976274405956958624704009698501594158911868956690472214608565890899652\n",
    "•--x•xx-•-•x••••x---x---x•••x•xx-x---xx--•x---xx-x---xx-x••••x•xx--x---x---x-•\n",
    "W   E  C    H    O   O   S   E  T O    G   O    T O    T H    E  M  O   O   N\n",
    "```\n",
    "\n",
    "The message is \"WE CHOOSE TO GO TO THE MOON\" (JFK). \n",
    "\n",
    "\n",
    "\n",
    "### Resources\n",
    "\n",
    "* [toebes.com](https://toebes.com/codebusters/Samples/Solving_Pollux.htm)\n",
    "* [ACA](https://www.cryptogram.org/downloads/aca.info/ciphers/Pollux.pdf)\n",
    "\n",
    "\n"
   ]
  },
  {
   "cell_type": "markdown",
   "metadata": {},
   "source": [
    "### Python Utilities\n",
    "\n",
    "Various Python utilities are developed for the Pollux Cipher, see [PolluxCipher.py](PolluxCipher.py) and [MorseCode.py](MorseCode.py) for details. Examples are presented below. "
   ]
  },
  {
   "cell_type": "code",
   "execution_count": 1,
   "metadata": {},
   "outputs": [
    {
     "name": "stdout",
     "output_type": "stream",
     "text": [
      "The generated Pollux Cipher key is: \n"
     ]
    },
    {
     "data": {
      "text/plain": [
       "{'•': [1, 6, 7, 8], '-': [3, 2, 4], 'x': [5, 0, 9]}"
      ]
     },
     "execution_count": 1,
     "metadata": {},
     "output_type": "execute_result"
    }
   ],
   "source": [
    "### Generate a random Pollux Cipher Key\n",
    "\n",
    "import PolluxCipher as pollux\n",
    "import MorseCode as morse\n",
    "from MorseCode import MORSE_CODE_DICT, MORSE_CODE_DECIPHER_DICT, MORSE_CODE_DASH, MORSE_CODE_DOT, MORSE_CODE_DIV\n",
    "\n",
    "# counts are counts of numbers in dot, dash, divider groups\n",
    "cipherKey = pollux.keyGenerator(counts=(4,3,3))\n",
    "\n",
    "print(\"The generated Pollux Cipher key is: \")\n",
    "cipherKey"
   ]
  },
  {
   "cell_type": "code",
   "execution_count": 2,
   "metadata": {},
   "outputs": [
    {
     "name": "stdout",
     "output_type": "stream",
     "text": [
      "Ciphertext: 629452514536260362596253092870139742036\n"
     ]
    }
   ],
   "source": [
    "### Use a key to encrypt a message \n",
    "\n",
    "# message to be encrypted\n",
    "message = \"ATTACK AT DAWN\"\n",
    "\n",
    "cipher = pollux.encrypt(message, cipherKey)\n",
    "print(\"Ciphertext:\", cipher)"
   ]
  },
  {
   "cell_type": "code",
   "execution_count": 3,
   "metadata": {},
   "outputs": [
    {
     "name": "stdout",
     "output_type": "stream",
     "text": [
      "Decrypted: ATTACK AT DAWN\n"
     ]
    }
   ],
   "source": [
    "### To decrypt a message with the encryption key\n",
    "\n",
    "decipher1 = pollux.decrypt(cipher, cipherKey)\n",
    "print(\"Decrypted:\", decipher1)"
   ]
  },
  {
   "cell_type": "code",
   "execution_count": 4,
   "metadata": {},
   "outputs": [
    {
     "name": "stdout",
     "output_type": "stream",
     "text": [
      "The decipher key is a reverse indexed dictionary:\n",
      "{0: 'x', 1: '•', 2: '-', 3: '-', 4: '-', 5: 'x', 6: '•', 7: '•', 8: '•', 9: 'x'}\n",
      "Decrypted: ATTACK AT DAWN\n"
     ]
    }
   ],
   "source": [
    "### To decrypt a message with the decryption dictionary (note the format)\n",
    "\n",
    "decipherKey = pollux.keyInverse(cipherKey)\n",
    "print(\"The decipher key is a reverse indexed dictionary:\")\n",
    "print(decipherKey)\n",
    "\n",
    "decipher2 = pollux.decrypt(cipher, decipherKey, is_inverse_key=True)\n",
    "print(\"Decrypted:\", decipher2)\n"
   ]
  },
  {
   "cell_type": "code",
   "execution_count": 5,
   "metadata": {},
   "outputs": [
    {
     "name": "stdout",
     "output_type": "stream",
     "text": [
      "Pollux Cipher Decrytion\n",
      "Decryption key: {0: 'x', 1: '•', 2: '-', 3: '-', 4: '-', 5: 'x', 6: '•', 7: '•', 8: '•', 9: 'x'}\n",
      "Ciphertext  : 629452514536260362596253092870139742036\n",
      "Morse Code  : •-x-x-x•-x-•-•x-•-xx•-x-xx-••x•-x•--x-•x\n",
      "Deciphertext: A  T T A  C    K    A  T  D   A  W   N  \n"
     ]
    }
   ],
   "source": [
    "### If you need the intermediate results, such as the Morse Code, use the helper\n",
    "decipher3 = pollux.decrypt(cipher, cipherKey, helper=True)"
   ]
  },
  {
   "cell_type": "markdown",
   "metadata": {},
   "source": [
    "#### Use the Python Helper to solve decryption problems\n",
    "\n",
    "We use the above example:\n",
    "\n",
    "```\n",
    "Decrypt the following Pollux cipher.\n",
    "Dots are at least 7, 4, and 2. \n",
    "Dashes are at least 5 and 9.\n",
    "Xs are at least 6.\n",
    "\n",
    "295071194976274405956958624704009698501594158911868956690472214608565890899652\n",
    "```"
   ]
  },
  {
   "cell_type": "code",
   "execution_count": 6,
   "metadata": {},
   "outputs": [
    {
     "name": "stdout",
     "output_type": "stream",
     "text": [
      "Pollux Cipher Decrytion\n",
      "Decryption key: {2: '•', 4: '•', 5: '-', 6: 'x', 7: '•', 8: '-', 9: '-'}\n",
      "Ciphertext  : 295071194976274405956958624704009698501594158911868956690472214608565890899652\n",
      "Morse Code  : •--$•$$-•-•x••••$---x---x•••$•$$-x---$$--•$---$$-x---xx-$••••$•x$--x---$---x-•x\n",
      "Deciphertext: $           $        O   $        $               O    $        $   $       N  \n"
     ]
    }
   ],
   "source": [
    "### Write down the (partial) key table, and the cipher text\n",
    "\n",
    "key = { MORSE_CODE_DOT: [2,4,7], \n",
    "        MORSE_CODE_DASH: [5,9,8],\n",
    "        MORSE_CODE_DIV: [6]}\n",
    "\n",
    "cipher = \"295071194976274405956958624704009698501594158911868956690472214608565890899652\"\n",
    "\n",
    "### Now we turn on the helper and try the decryption\n",
    "decipher = pollux.decrypt(cipher, key, helper=True)\n",
    "\n",
    "### We use '$' to represent any unkown symbols or letters"
   ]
  },
  {
   "cell_type": "code",
   "execution_count": 7,
   "metadata": {},
   "outputs": [
    {
     "name": "stdout",
     "output_type": "stream",
     "text": [
      "Pollux Cipher Decrytion\n",
      "Decryption key: {0: 'x', 1: 'x', 2: '•', 4: '•', 5: '-', 6: 'x', 7: '•', 8: '-', 9: '-'}\n",
      "Ciphertext  : 295071194976274405956958624704009698501594158911868956690472214608565890899652\n",
      "Morse Code  : •--x•xx-•-•x••••x---x---x•••x•xx-x---xx--•x---xx-x---xx-x••••x•xx--x---x---x-•x\n",
      "Deciphertext: W   E  C    H    O   O   S   E  T O    G   O    T O    T H    E  M  O   O   N  \n"
     ]
    }
   ],
   "source": [
    "### We can decrypt two letters now 'O' and 'N'. But we believe 0 is a 'x', '1' might be as well. \n",
    "\n",
    "# Let's add 0, 1 to MORSE_CODE_DIV and try again\n",
    "\n",
    "key = { MORSE_CODE_DOT: [2,4,7], \n",
    "        MORSE_CODE_DASH: [5,9,8],\n",
    "        MORSE_CODE_DIV: [6, 0, 1]}\n",
    "\n",
    "cipher = \"295071194976274405956958624704009698501594158911868956690472214608565890899652\"\n",
    "\n",
    "### Now we turn on the helper and try the decryption\n",
    "decipher = pollux.decrypt(cipher, key, helper=True)\n"
   ]
  },
  {
   "cell_type": "code",
   "execution_count": 8,
   "metadata": {},
   "outputs": [
    {
     "name": "stdout",
     "output_type": "stream",
     "text": [
      "The decrypted message is: WE CHOOSE TO GO TO THE MOON\n"
     ]
    }
   ],
   "source": [
    "### we have a success!\n",
    "print(\"The decrypted message is:\", decipher)"
   ]
  }
 ],
 "metadata": {
  "kernelspec": {
   "display_name": "Python 3",
   "language": "python",
   "name": "python3"
  },
  "language_info": {
   "codemirror_mode": {
    "name": "ipython",
    "version": 3
   },
   "file_extension": ".py",
   "mimetype": "text/x-python",
   "name": "python",
   "nbconvert_exporter": "python",
   "pygments_lexer": "ipython3",
   "version": "3.8.5"
  }
 },
 "nbformat": 4,
 "nbformat_minor": 4
}
