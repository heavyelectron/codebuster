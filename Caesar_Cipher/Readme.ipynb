{
 "cells": [
  {
   "cell_type": "markdown",
   "metadata": {},
   "source": [
    "## Caesar Cipher\n",
    "\n",
    "The Caesar cipher, also known the shift cipher, is a type of substitution cipher in which each letter in the plaintext is replaced by a letter some fixed number of positions down the alphabet. \n",
    "\n",
    "For example, with a left shift of 3, D would be replaced by A, E would become B, and\n",
    "\n",
    "```\n",
    "Plain:    ABCDEFGHIJKLMNOPQRSTUVWXYZ\n",
    "Cipher:   XYZABCDEFGHIJKLMNOPQRSTUVW\n",
    "```\n",
    "\n",
    "With the above encryption rule, a message can be encrypted as\n",
    "\n",
    "```\n",
    "Plain:  Codebuster is fun!\n",
    "Cipher: Zlabyrpqbo fp crk!\n",
    "\n",
    "```\n",
    "\n",
    "\n",
    "In Codebuster competitions, a table with all possible shifts is provided. Once the shift is guessed or determined, you may use the table to quickly decrypt any given letter."
   ]
  },
  {
   "cell_type": "markdown",
   "metadata": {},
   "source": [
    "### Python implementation\n",
    "\n",
    "Mathematically, if A=0, B=1, ... Z=25, encryption of a letter x by a shift n can be described as,\n",
    "\n",
    "$$E_n(x) = (n+x) \\mod 26 $$\n",
    "\n",
    "while the decryption can be done by the reverse shift \n",
    "\n",
    "$$D_n(x) = (n-x) \\mod 26 $$\n",
    "\n",
    "In computers, lettes are ususually represented by ascii code: 'A'=65, 'B'=66, ..., 'a'=97', ... which can be obtained by the `ord()` Python function. Implementations for Caesar Encryptor/Decryptors are shown below. "
   ]
  },
  {
   "cell_type": "code",
   "execution_count": 1,
   "metadata": {},
   "outputs": [],
   "source": [
    "### Python code for Caesar Cipher\n",
    "\n",
    "def Caesar_Encryptor(text,shift): \n",
    "    \"\"\"\n",
    "    Caesar Cipher to encrypt a {text} with a given {shift}\n",
    "    Only letters A-Za-z are encrypted\n",
    "    Return: encrypted text\n",
    "    \"\"\"\n",
    "    # create an empty string for output\n",
    "    result = \"\" \n",
    "  \n",
    "    # iterate over the input text\n",
    "    for i in range(len(text)): \n",
    "        # get the character\n",
    "        char = text[i] \n",
    "        # if it's a upper case letter \n",
    "        if (char.isupper()): \n",
    "            # shift the letter (c+shift) % 26\n",
    "            result += chr((ord(char) + shift- ord('A')) % 26 + ord('A')) \n",
    "        # if it's a lower case letter \n",
    "        elif (char.islower()): \n",
    "            result += chr((ord(char) + shift - ord('a')) % 26 + ord('a')) \n",
    "        # All others including space, numbers, symbols\n",
    "        else:\n",
    "            # just copy it\n",
    "            result += char\n",
    "    # return the encrypted text\n",
    "    return result \n",
    "\n",
    "def Caesar_Decryptor(text,shift): \n",
    "    \"\"\"\n",
    "    Caesar Cipher to decrypt a {text} with a given {shift}\n",
    "    Only letters A-Za-z are decrypted\n",
    "    Return: decrypted text\n",
    "    \"\"\"\n",
    "    # create an empty string for output\n",
    "    result = \"\" \n",
    "  \n",
    "    # iterate over the input text\n",
    "    for i in range(len(text)): \n",
    "        # get the character\n",
    "        char = text[i] \n",
    "        # if it's a upper case letter \n",
    "        if (char.isupper()): \n",
    "            # shift the letter (c-shift) % 26\n",
    "            result += chr((ord(char) - shift- ord('A')) % 26 + ord('A')) \n",
    "        # if it's a lower case letter \n",
    "        elif (char.islower()): \n",
    "            result += chr((ord(char) - shift - ord('a')) % 26 + ord('a')) \n",
    "        # All others including space, numbers, symbols\n",
    "        else:\n",
    "            # just copy it\n",
    "            result += char\n",
    "    # return the encrypted text\n",
    "    return result "
   ]
  },
  {
   "cell_type": "code",
   "execution_count": 2,
   "metadata": {},
   "outputs": [
    {
     "name": "stdout",
     "output_type": "stream",
     "text": [
      "Text  : Codebuster is fun!\n",
      "Shift : -3\n",
      "Cipher: Zlabyrpqbo fp crk!\n",
      "Decrypted: Codebuster is fun!\n"
     ]
    }
   ],
   "source": [
    "# Test the above functions\n",
    "# Change text and/or shift for your own message,\n",
    "text = \"Codebuster is fun!\"\n",
    "shift = -3\n",
    "print(\"Text  : \" + text ) \n",
    "print(\"Shift : \" + str(shift))\n",
    "encrypted_text = Caesar_Encryptor(text,shift)\n",
    "print(\"Cipher: \" + encrypted_text)\n",
    "decrypted_text = Caesar_Decryptor(encrypted_text, shift)\n",
    "print(\"Decrypted: \" + decrypted_text)"
   ]
  },
  {
   "cell_type": "markdown",
   "metadata": {},
   "source": [
    "## Decrypt a message with two-letter words \n",
    "\n",
    "If there are any two-letter words in the encrypted message, it is rather easy to decrypt, since there are not so many two-letter words. \n",
    "\n",
    "In Caesar Cipher, while the shift is varied and unknown in decryption, the relative distance between two letters remains the same. We define the distance between two letters as the number of alphabets counted from first letter to second (not including the first). For example 'be', we count 'cde', three letters, and the distance is 3. "
   ]
  },
  {
   "cell_type": "code",
   "execution_count": 3,
   "metadata": {},
   "outputs": [
    {
     "name": "stdout",
     "output_type": "stream",
     "text": [
      "Word  no has a distance= 1 , reverse distance= -25\n",
      "Word  be has a distance= 3 , reverse distance= -23\n",
      "Word  or has a distance= 3 , reverse distance= -23\n",
      "Word  in has a distance= 5 , reverse distance= -21\n",
      "Word  we has a distance= 8 , reverse distance= -18\n",
      "Word  go has a distance= 8 , reverse distance= -18\n",
      "Word  is has a distance= 10 , reverse distance= -16\n",
      "Word  it has a distance= 11 , reverse distance= -15\n",
      "Word  do has a distance= 11 , reverse distance= -15\n",
      "Word  my has a distance= 12 , reverse distance= -14\n",
      "Word  am has a distance= 12 , reverse distance= -14\n",
      "Word  an has a distance= 13 , reverse distance= -13\n",
      "Word  of has a distance= 17 , reverse distance= -9\n",
      "Word  as has a distance= 18 , reverse distance= -8\n",
      "Word  me has a distance= 18 , reverse distance= -8\n",
      "Word  at has a distance= 19 , reverse distance= -7\n",
      "Word  to has a distance= 21 , reverse distance= -5\n",
      "Word  up has a distance= 21 , reverse distance= -5\n",
      "Word  so has a distance= 22 , reverse distance= -4\n",
      "Word  he has a distance= 23 , reverse distance= -3\n",
      "Word  by has a distance= 23 , reverse distance= -3\n",
      "Word  if has a distance= 23 , reverse distance= -3\n",
      "Word  us has a distance= 24 , reverse distance= -2\n",
      "Word  on has a distance= 25 , reverse distance= -1\n"
     ]
    }
   ],
   "source": [
    "def TwoLetterDistance(word):\n",
    "    \"\"\"\n",
    "    \"\"\"\n",
    "    \n",
    "    if len(word)!=2:\n",
    "        print(\"This function can only compute the distance for two-letter words\")\n",
    "        return\n",
    "    firstLetter = word[0].lower()\n",
    "    secondLetter = word[1].lower()\n",
    "    \n",
    "    distance = (ord(secondLetter)-ord(firstLetter))% 26\n",
    "    return distance\n",
    "\n",
    "def TwoLetterWordDictionary():\n",
    "    WordDict = {}\n",
    "    TwoLetterWordList=\"of, to, in, it, is, be, as, at, so, we, he, by, or, on, do, if, me, my, up, an, go, no, us, am\".split(', ')\n",
    "    for word in TwoLetterWordList:\n",
    "        distance = TwoLetterDistance(word)\n",
    "        WordDict.update({word : distance})\n",
    "    WordDict = dict(sorted(WordDict.items(), key=lambda item: item[1]))\n",
    "    return WordDict    \n",
    "        \n",
    "MyTwoLetterWordDictionary = TwoLetterWordDictionary()\n",
    "for word,distance in MyTwoLetterWordDictionary.items():\n",
    "    print(\"Word \", word, \"has a distance=\", distance, \", reverse distance=\", distance-26)"
   ]
  },
  {
   "cell_type": "markdown",
   "metadata": {},
   "source": [
    "For example, in the encrypted message \"Zlabyrpqbo fp crk!\", there is a two-letter word \"fp\". The distance between 'f' and 'p' is 10. We can easily figure out that the word must be \"is\". The shift is then the distance between 'i' and 'f', which is 23, or -3. We now can solve the puzzle, with the python code below"
   ]
  },
  {
   "cell_type": "code",
   "execution_count": 4,
   "metadata": {},
   "outputs": [
    {
     "name": "stdout",
     "output_type": "stream",
     "text": [
      "Distance between  fp  is  10\n",
      "A possible match is 'is' with the shift  23\n",
      "Decypted:  Codebuster is fun!\n"
     ]
    }
   ],
   "source": [
    "# find the distance between two letters in the two-letter word\n",
    "twoLetterWord = 'fp'\n",
    "distance=TwoLetterDistance(twoLetterWord) # return 10\n",
    "print(\"Distance between \", twoLetterWord, \" is \", distance)\n",
    "# Check the two-letter word dictionary and possible matches\n",
    "for word,dist in MyTwoLetterWordDictionary.items(): \n",
    "    if dist == distance:\n",
    "        print(\"A possible match is '\"+word+\"' with the shift \", TwoLetterDistance(word[0]+twoLetterWord[0]))    \n",
    "# return 'is' with the shift 23\n",
    "# we now use the shift to decrypt\n",
    "shift=23\n",
    "decrypted_text = Caesar_Decryptor(\"Zlabyrpqbo fp crk!\", shift)\n",
    "print(\"Decypted: \", decrypted_text)"
   ]
  },
  {
   "cell_type": "code",
   "execution_count": 5,
   "metadata": {},
   "outputs": [
    {
     "name": "stdout",
     "output_type": "stream",
     "text": [
      "Distance between  fp  is  10\n",
      "A possible match is 'is' with the shift  23\n",
      "The decrypted message is Codebuster is fun!\n",
      "['Codebuster is fun!']\n",
      "Distance between  CU  is  18\n",
      "A possible match is 'as' with the shift  2\n",
      "The decrypted message is QOHQV AS WT MCI QOB\n",
      "A possible match is 'me' with the shift  16\n",
      "The decrypted message is CATCH ME IF YOU CAN\n",
      "['QOHQV AS WT MCI QOB', 'CATCH ME IF YOU CAN']\n",
      "Distance between  YV  is  23\n",
      "A possible match is 'he' with the shift  17\n",
      "The decrypted message is BZSBG LD HE XNT BZM\n",
      "A possible match is 'by' with the shift  23\n",
      "The decrypted message is VTMVA FX BY RHN VTG\n",
      "A possible match is 'if' with the shift  16\n",
      "The decrypted message is CATCH ME IF YOU CAN\n",
      "['BZSBG LD HE XNT BZM', 'VTMVA FX BY RHN VTG', 'CATCH ME IF YOU CAN']\n"
     ]
    }
   ],
   "source": [
    "def Caesar_Decryptor_TwoLetterWord(encrypted_text, twoLetterWord):\n",
    "    \"\"\"\n",
    "    Caesar Decryptor to use a two-letter word to decrypt a message\n",
    "    \"\"\"\n",
    "    \n",
    "    # compute the distance between the two letters in twoLetterWord\n",
    "    distance=TwoLetterDistance(twoLetterWord)\n",
    "    print(\"Distance between \", twoLetterWord, \" is \", distance)\n",
    "    \n",
    "    # create a list of all possible decrypted messages\n",
    "    result = []\n",
    "    \n",
    "    # Check the two-letter word dictionary and possible matches\n",
    "    for word,dist in MyTwoLetterWordDictionary.items(): \n",
    "        # found a matched two-letter word in dictionary\n",
    "        if dist == distance:\n",
    "            # calculate the shift\n",
    "            shift = TwoLetterDistance(word[0]+twoLetterWord[0])\n",
    "            print(\"A possible match is '\"+word+\"' with the shift \", shift)\n",
    "            # decrypt the message\n",
    "            decrypted_text = Caesar_Decryptor(encrypted_text, shift)\n",
    "            print(\"The decrypted message is \"+decrypted_text)\n",
    "            # append the decrypted text to the answer list\n",
    "            result.append(decrypted_text)\n",
    "    # return the list of all possible answers\n",
    "    return result\n",
    "    \n",
    "# test \n",
    "print(Caesar_Decryptor_TwoLetterWord(\"Zlabyrpqbo fp crk!\", \"fp\"))\n",
    "\n",
    "# more tests with two or more possibilities\n",
    "print(Caesar_Decryptor_TwoLetterWord('SQJSX CU YV OEK SQD', 'CU'))\n",
    "print(Caesar_Decryptor_TwoLetterWord('SQJSX CU YV OEK SQD', 'YV'))"
   ]
  },
  {
   "cell_type": "code",
   "execution_count": 6,
   "metadata": {},
   "outputs": [
    {
     "name": "stdout",
     "output_type": "stream",
     "text": [
      "Distance between  Co  is  12\n",
      "A possible match is 'my' with the shift  16\n",
      "The decrypted message is My test here\n",
      "A possible match is 'am' with the shift  2\n",
      "The decrypted message is Am hsgh vsfs\n",
      "Cipher:  Co juij xuhu\n",
      "Decrypted:  ['My test here', 'Am hsgh vsfs']\n"
     ]
    }
   ],
   "source": [
    "# make your own test here\n",
    "import random\n",
    "shift = random.randint(-26,26)\n",
    "encrypted = Caesar_Encryptor(\"My test here\", shift)\n",
    "twoLetterWord_encrypted = encrypted.split(' ')[0]\n",
    "decrypted = Caesar_Decryptor_TwoLetterWord(encrypted, twoLetterWord_encrypted)\n",
    "print(\"Cipher: \", encrypted)\n",
    "print(\"Decrypted: \", decrypted)"
   ]
  },
  {
   "cell_type": "markdown",
   "metadata": {},
   "source": [
    "### Decipher a message with other patterns\n",
    "\n",
    "In Cryptanalysis, some of the strategies are \n",
    "\n",
    "* Identify Common Pairs Of Letters\n",
    "* Identify The Smallest Words First\n",
    "* Tailor Made Frequency Tables\n",
    "* Play The Guessing Game\n",
    "\n",
    "More details as well as the frequent patterns in English can be found [here](https://www3.nd.edu/~busiforc/handouts/cryptography/cryptography%20hints.html).\n"
   ]
  },
  {
   "cell_type": "markdown",
   "metadata": {},
   "source": [
    "### Practice Examples\n",
    "\n",
    "1. 'Bpm ozmibmab otwzg qv tqdqvo tqma vwb qv vmdmz nittqvo, jcb qv zqaqvo mdmzg bqum em nitt.'\n",
    "\n",
    "2. 'Vjg yca vq igv uvctvgf ku vq swkv vcnmkpi cpf dgikp fqkpi.'\n",
    "\n",
    "3. 'Dolu fvb ylhjo aol luk vm fvby yvwl, apl h ruva pu pa huk ohun vu.'\n",
    "\n",
    "4. 'Itaqhqd ue tmbbk iuxx ymwq aftqde tmbbk faa.'\n",
    "\n",
    "5. 'Vgrvtn mzhzhwzm ocvo tjp vmz vwnjgpozgt pidlpz. Epno gdfz zqzmtjiz zgnz.'\n",
    "\n",
    "\n",
    "see the answers [here](Answer.txt)."
   ]
  },
  {
   "cell_type": "code",
   "execution_count": null,
   "metadata": {},
   "outputs": [],
   "source": []
  }
 ],
 "metadata": {
  "kernelspec": {
   "display_name": "Python 3",
   "language": "python",
   "name": "python3"
  },
  "language_info": {
   "codemirror_mode": {
    "name": "ipython",
    "version": 3
   },
   "file_extension": ".py",
   "mimetype": "text/x-python",
   "name": "python",
   "nbconvert_exporter": "python",
   "pygments_lexer": "ipython3",
   "version": "3.8.5"
  }
 },
 "nbformat": 4,
 "nbformat_minor": 4
}
