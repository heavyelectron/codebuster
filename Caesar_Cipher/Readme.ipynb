{
 "cells": [
  {
   "cell_type": "markdown",
   "metadata": {},
   "source": [
    "## Caesar Cipher\n",
    "\n",
    "The Caesar cipher, also known the shift cipher, is a type of substitution cipher in which each letter in the plaintext is replaced by a letter some fixed number of positions down the alphabet. \n",
    "\n",
    "For example, with a left shift of 3, D would be replaced by A, E would become B, and\n",
    "\n",
    "```\n",
    "Plain:    ABCDEFGHIJKLMNOPQRSTUVWXYZ\n",
    "Cipher:   XYZABCDEFGHIJKLMNOPQRSTUVW\n",
    "```\n",
    "\n",
    "With the above encryption rule, a message can be encrypted as\n",
    "\n",
    "```\n",
    "Plain:  Codebuster is fun!\n",
    "Cipher: Zlabyrpqbo fp crk!\n",
    "\n",
    "```\n",
    "\n",
    "Mathematically, if A=0, B=1, ... Z=25, encryption of a letter x by a shift n can be described as,\n",
    "\n",
    "$$E_n(x) = (n+x) \\mod 26 $$\n",
    "\n",
    "while the decryption can be done by the reverse shift \n",
    "\n",
    "$$D_n(x) = (n-x) \\mod 26 $$\n"
   ]
  },
  {
   "cell_type": "markdown",
   "metadata": {},
   "source": [
    "### Codebuster strategies\n",
    "\n",
    "The Caesar Ciper encrypted message is rather easy to decrypt, since the distances between letters remain the same. \n",
    "You may start with words with fewest letters. For example, for \"Zlabyrpqbo fp crk!\", we start with fp. We can simply write down all possible shifts,\n",
    "\n",
    "```\n",
    "ak bl cm dn eo fp gq hr is jt ku lv mw nx oy pz qa rb sc td ue vf wg xh yi zj\n",
    "```\n",
    "\n",
    "Apparently, only \"is\" is a word. Then 'f'->'i', or the shift =-3 or (23). The rest decryption is straightforward; you may use the Vigenère Alphabet Table provided at competitions; use one row as the shift table. \n",
    "\n",
    "Other common patterns are one-letter, 'a' or 'I', repetitive letters 'ee', 'll', 'oo' ...\n",
    "\n",
    "More details as well as the frequent patterns in English can be found [here](https://www3.nd.edu/~busiforc/handouts/cryptography/cryptography%20hints.html)."
   ]
  },
  {
   "cell_type": "markdown",
   "metadata": {},
   "source": [
    "### Python implementation of Cipher/Decipher\n",
    "\n",
    "In computers, lettes are ususually represented by ascii code: 'A'=65, 'B'=66, ..., 'a'=97', ... which can be obtained by the `ord()` Python function. Implementations for Caesar Encryptor/Decryptors are shown below. "
   ]
  },
  {
   "cell_type": "code",
   "execution_count": 1,
   "metadata": {},
   "outputs": [],
   "source": [
    "### Python code for Caesar Cipher\n",
    "\n",
    "def Caesar_Encryptor(text,shift): \n",
    "    \"\"\"\n",
    "    Caesar Cipher to encrypt a {text} with a given {shift}\n",
    "    Only letters A-Za-z are encrypted\n",
    "    Return: encrypted text\n",
    "    \"\"\"\n",
    "    # create an empty string for output\n",
    "    result = \"\" \n",
    "  \n",
    "    # iterate over the input text\n",
    "    for i in range(len(text)): \n",
    "        # get the character\n",
    "        char = text[i] \n",
    "        # if it's a upper case letter \n",
    "        if (char.isupper()): \n",
    "            # shift the letter (c+shift) % 26\n",
    "            result += chr((ord(char) + shift- ord('A')) % 26 + ord('A')) \n",
    "        # if it's a lower case letter \n",
    "        elif (char.islower()): \n",
    "            result += chr((ord(char) + shift - ord('a')) % 26 + ord('a')) \n",
    "        # All others including space, numbers, symbols\n",
    "        else:\n",
    "            # just copy it\n",
    "            result += char\n",
    "    # return the encrypted text\n",
    "    return result \n",
    "\n",
    "def Caesar_Decryptor(text, shift): \n",
    "    \"\"\"\n",
    "    Caesar Cipher to decrypt a {text} if the {shift} has been figured out\n",
    "    Only letters A-Za-z are decrypted\n",
    "    Return: decrypted text\n",
    "    \"\"\"\n",
    "    # simply reverse\n",
    "    return Caesar_Encryptor(text, -shift) \n",
    "    "
   ]
  },
  {
   "cell_type": "code",
   "execution_count": 2,
   "metadata": {},
   "outputs": [],
   "source": [
    "# Test the above functions\n",
    "# Change text and/or shift for your own message,\n",
    "text = \"Codebuster is fun!\"\n",
    "shift = -3\n",
    "print(\"Plain  : \" + text ) \n",
    "print(\"Shift : \" + str(shift))\n",
    "encrypted_text = Caesar_Encryptor(text,shift)\n",
    "print(\"Cipher: \" + encrypted_text)\n",
    "decrypted_text = Caesar_Decryptor(encrypted_text, shift)\n",
    "print(\"Decrypted: \" + decrypted_text)"
   ]
  },
  {
   "cell_type": "markdown",
   "metadata": {},
   "source": [
    "### Computer-assisted decryption: a message with two-letter words \n",
    "\n",
    "If there are any two-letter words in the encrypted message, it is rather easy to decrypt, since there are not so many two-letter words. \n",
    "\n",
    "In Caesar Cipher, while the shift is varied and unknown in decryption, the relative distance between two letters remains the same. We define the distance between two letters as the number of alphabets counted from first letter to second (not including the first). For example 'be', we count 'cde', three letters, and the distance is 3. "
   ]
  },
  {
   "cell_type": "code",
   "execution_count": 3,
   "metadata": {},
   "outputs": [],
   "source": [
    "def TwoLetterDistance(word):\n",
    "    \"\"\"\n",
    "    Calculate the distance between two letters in {word}, excluding the first one\n",
    "    i.e., distance('be')=3 \n",
    "    \"\"\"\n",
    "    # check whether it's a two-letter word\n",
    "    if len(word)!=2:\n",
    "        print(\"This function can only compute the distance for two-letter words\")\n",
    "        return\n",
    "    # convert both to lower case \n",
    "    firstLetter = word[0].lower()\n",
    "    secondLetter = word[1].lower()\n",
    "    # compute the distance\n",
    "    distance = (ord(secondLetter)-ord(firstLetter))% 26\n",
    "    return distance\n",
    "\n",
    "def TwoLetterWordDictionary():\n",
    "    \"\"\"\n",
    "    Set up a dictionary {\"word\": distance} for known two-letter words\n",
    "    \"\"\"\n",
    "    WordDict = {}\n",
    "    TwoLetterWordList=\"of, to, in, it, is, be, as, at, so, we, he, by, or, on, do, if, me, my, up, an, go, no, us, am\".split(', ')\n",
    "    for word in TwoLetterWordList:\n",
    "        distance = TwoLetterDistance(word)\n",
    "        WordDict.update({word : distance})\n",
    "    WordDict = dict(sorted(WordDict.items(), key=lambda item: item[1]))\n",
    "    return WordDict    \n",
    "\n",
    "# create my two-letter word dictionary\n",
    "MyTwoLetterWordDictionary = TwoLetterWordDictionary()\n",
    "# print out all items in the dictionary\n",
    "for word,distance in MyTwoLetterWordDictionary.items():\n",
    "    print(\"Word \", word, \"has a distance=\", distance, \", reverse distance=\", distance-26)"
   ]
  },
  {
   "cell_type": "markdown",
   "metadata": {},
   "source": [
    "For example, in the encrypted message \"Zlabyrpqbo fp crk!\", there is a two-letter word \"fp\". The distance between 'f' and 'p' is 10. We can easily figure out that the word must be \"is\". The shift is then the distance between 'i' and 'f', which is 23, or -3. We now can solve the puzzle, with the python code below"
   ]
  },
  {
   "cell_type": "code",
   "execution_count": 4,
   "metadata": {},
   "outputs": [],
   "source": [
    "# find the distance between two letters in the two-letter word\n",
    "twoLetterWord = 'fp'\n",
    "distance=TwoLetterDistance(twoLetterWord) # return 10\n",
    "print(\"Distance between \", twoLetterWord, \" is \", distance)\n",
    "# Check the two-letter word dictionary and possible matches\n",
    "for word,dist in MyTwoLetterWordDictionary.items(): \n",
    "    if dist == distance:\n",
    "        print(\"A possible match is '\"+word+\"' with the shift \", TwoLetterDistance(word[0]+twoLetterWord[0]))    \n",
    "# return 'is' with the shift 23\n",
    "# we now use the shift to decrypt\n",
    "shift=23\n",
    "decrypted_text = Caesar_Decryptor(\"Zlabyrpqbo fp crk!\", shift)\n",
    "print(\"Decypted: \", decrypted_text)"
   ]
  },
  {
   "cell_type": "markdown",
   "metadata": {},
   "source": [
    "The integrate program which can decipher a message with a two-letter word:"
   ]
  },
  {
   "cell_type": "code",
   "execution_count": 5,
   "metadata": {},
   "outputs": [],
   "source": [
    "def Caesar_Decryptor_TwoLetterWord(encrypted_text, twoLetterWord):\n",
    "    \"\"\"\n",
    "    Caesar Decryptor to use a two-letter word to decrypt a message\n",
    "    \"\"\"\n",
    "    \n",
    "    # compute the distance between the two letters in twoLetterWord\n",
    "    distance=TwoLetterDistance(twoLetterWord)\n",
    "    print(\"Distance between \", twoLetterWord, \" is \", distance)\n",
    "    \n",
    "    # create a list of all possible decrypted messages\n",
    "    result = []\n",
    "    \n",
    "    # Check the two-letter word dictionary and possible matches\n",
    "    for word,dist in MyTwoLetterWordDictionary.items(): \n",
    "        # found a matched two-letter word in dictionary\n",
    "        if dist == distance:\n",
    "            # calculate the shift\n",
    "            shift = TwoLetterDistance(word[0]+twoLetterWord[0])\n",
    "            print(\"A possible match is '\"+word+\"' with the shift \", shift)\n",
    "            # decrypt the message\n",
    "            decrypted_text = Caesar_Decryptor(encrypted_text, shift)\n",
    "            print(\"The decrypted message is \"+decrypted_text)\n",
    "            # append the decrypted text to the answer list\n",
    "            result.append(decrypted_text)\n",
    "    # return the list of all possible answers\n",
    "    return result\n",
    "    \n",
    "# test \n",
    "print(Caesar_Decryptor_TwoLetterWord(\"Zlabyrpqbo fp crk!\", \"fp\"))\n",
    "\n",
    "# more tests with two or more possibilities\n",
    "print(Caesar_Decryptor_TwoLetterWord('SQJSX CU YV OEK SQD', 'CU'))\n",
    "print(Caesar_Decryptor_TwoLetterWord('SQJSX CU YV OEK SQD', 'YV'))"
   ]
  },
  {
   "cell_type": "markdown",
   "metadata": {},
   "source": [
    "### Computer-assisted decryptor, based on an English dictionary\n",
    "\n",
    "It is easy to ask computer to try all possible shifts. We then check whether the decrypted words are in a language dictionary, by a pyspellchecker package.  "
   ]
  },
  {
   "cell_type": "code",
   "execution_count": 6,
   "metadata": {},
   "outputs": [
    {
     "name": "stdout",
     "output_type": "stream",
     "text": [
      "Find dictionary words at shift  16\n"
     ]
    },
    {
     "data": {
      "text/plain": [
       "'CATCH ME, IF YOU CAN!'"
      ]
     },
     "execution_count": 6,
     "metadata": {},
     "output_type": "execute_result"
    }
   ],
   "source": [
    "def Caesar_Decryptor_Dict(encrypted, matchCounts=4):\n",
    "    \"\"\"\n",
    "    A Caesar Decipher which uses the spell checks, or whether words are in dictionary\n",
    "    Use {matchCounts} to control how many words need to be identified in dictionary\n",
    "    Note that spellcheck acts certain abbreviations as real words, \n",
    "    use a large matchCounts if there are many two-letter words\n",
    "    \"\"\"\n",
    "    # use a spellchecker to check whether words are in dictionary\n",
    "    from spellchecker import SpellChecker\n",
    "    # create an English spell checker\n",
    "    spell = SpellChecker(language=u'en')\n",
    "    \n",
    "    # iterate all possible shifts\n",
    "    for shift in range(26):\n",
    "        # decrypt with the current shift\n",
    "        decrypted = Caesar_Decryptor(encrypted, shift)\n",
    "        # split the text into a list of words\n",
    "        wordsList = spell.split_words(decrypted)\n",
    "        wordsCount = len(wordsList)\n",
    "        # set a criterion for match, at least three words are in dictionary\n",
    "        wordsMatchedCriterion = min(wordsCount, matchCounts)\n",
    "        \n",
    "        # check whether it is a real word\n",
    "        dictWordsList = spell.known(wordsList)\n",
    "        if len(dictWordsList) >= wordsMatchedCriterion:\n",
    "            print(\"Find dictionary words at shift \", shift)\n",
    "            return decrypted\n",
    "    \n",
    "    print(\"All trials failed\")\n",
    "    return \"\"\n",
    "        \n",
    "# a test\n",
    "Caesar_Decryptor_Dict(\"SQJSX CU, YV OEK SQD!\")"
   ]
  },
  {
   "cell_type": "markdown",
   "metadata": {},
   "source": [
    "### Practice Problems\n",
    "\n",
    "1. 'Bpm ozmibmab otwzg qv tqdqvo tqma vwb qv vmdmz nittqvo, jcb qv zqaqvo mdmzg bqum em nitt.'\n",
    "\n",
    "2. 'Vjg yca vq igv uvctvgf ku vq swkv vcnmkpi cpf dgikp fqkpi.'\n",
    "\n",
    "3. 'Dolu fvb ylhjo aol luk vm fvby yvwl, apl h ruva pu pa huk ohun vu.'\n",
    "\n",
    "4. 'Itaqhqd ue tmbbk iuxx ymwq aftqde tmbbk faa.'\n",
    "\n",
    "5. 'Vgrvtn mzhzhwzm ocvo tjp vmz vwnjgpozgt pidlpz. Epno gdfz zqzmtjiz zgnz.'\n",
    "\n",
    "\n",
    "see the answers [here](Answer.txt).\n",
    "\n",
    "You can also use the following code to generate the decrypted message for practice (of course, ask someone else to do it). "
   ]
  },
  {
   "cell_type": "code",
   "execution_count": 7,
   "metadata": {},
   "outputs": [
    {
     "name": "stdout",
     "output_type": "stream",
     "text": [
      "Cipher:  Bn bthhpvt id qt tcrgneits\n"
     ]
    }
   ],
   "source": [
    "# Generate your own ciphers\n",
    "import random\n",
    "message = \"My message to be encrypted\"\n",
    "shift = random.randint(-26,26)\n",
    "encrypted = Caesar_Encryptor(message, shift)\n",
    "print(\"Cipher: \", encrypted)"
   ]
  },
  {
   "cell_type": "code",
   "execution_count": 8,
   "metadata": {},
   "outputs": [
    {
     "name": "stdout",
     "output_type": "stream",
     "text": [
      "Find dictionary words at shift  15\n",
      "Decrypted:  My message to be encrypted\n"
     ]
    }
   ],
   "source": [
    "# to check your answer\n",
    "decrypted = Caesar_Decryptor_Dict(encrypted)\n",
    "print(\"Decrypted: \", decrypted)"
   ]
  },
  {
   "cell_type": "code",
   "execution_count": null,
   "metadata": {},
   "outputs": [],
   "source": []
  }
 ],
 "metadata": {
  "kernelspec": {
   "display_name": "Python 3",
   "language": "python",
   "name": "python3"
  },
  "language_info": {
   "codemirror_mode": {
    "name": "ipython",
    "version": 3
   },
   "file_extension": ".py",
   "mimetype": "text/x-python",
   "name": "python",
   "nbconvert_exporter": "python",
   "pygments_lexer": "ipython3",
   "version": "3.8.5"
  }
 },
 "nbformat": 4,
 "nbformat_minor": 4
}
